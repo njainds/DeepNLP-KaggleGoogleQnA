{
 "cells": [
  {
   "cell_type": "markdown",
   "metadata": {},
   "source": [
    "For a better version of the code, please take a look at `clean_stack_exchange_qa.py`"
   ]
  },
  {
   "cell_type": "code",
   "execution_count": 1,
   "metadata": {
    "pycharm": {}
   },
   "outputs": [
    {
     "name": "stderr",
     "output_type": "stream",
     "text": [
      "//anaconda3/lib/python3.7/site-packages/tqdm/std.py:656: FutureWarning: The Panel class is removed from pandas. Accessing it from the top-level namespace will also be removed in the next version\n",
      "  from pandas import Panel\n",
      "//anaconda3/lib/python3.7/site-packages/statsmodels/tools/_testing.py:19: FutureWarning: pandas.util.testing is deprecated. Use the functions in the public API at pandas.testing instead.\n",
      "  import pandas.util.testing as tm\n"
     ]
    }
   ],
   "source": [
    "import pandas as pd\n",
    "import numpy as np\n",
    "from pathlib import Path\n",
    "import os\n",
    "import re\n",
    "\n",
    "from tqdm.notebook import tqdm\n",
    "from tqdm.auto import tqdm\n",
    "tqdm.pandas()\n",
    "from matplotlib import pyplot as plt\n",
    "import seaborn as sns\n",
    "\n",
    "%matplotlib inline"
   ]
  },
  {
   "cell_type": "code",
   "execution_count": 2,
   "metadata": {},
   "outputs": [],
   "source": [
    "PATH_TO_SX_PARSED = Path('../../input/sx_dump/stackexchange_parsed')\n",
    "PATH_TO_SAVE = Path('../../input')"
   ]
  },
  {
   "cell_type": "code",
   "execution_count": 3,
   "metadata": {
    "pycharm": {}
   },
   "outputs": [],
   "source": [
    "dumps = PATH_TO_SX_PARSED.glob('*')\n",
    "dumps = [path for path in dumps if path.joinpath('questions.tsv').exists()]"
   ]
  },
  {
   "cell_type": "code",
   "execution_count": 4,
   "metadata": {
    "pycharm": {}
   },
   "outputs": [
    {
     "data": {
      "application/vnd.jupyter.widget-view+json": {
       "model_id": "13c65c62611a445daa83bf5874297762",
       "version_major": 2,
       "version_minor": 0
      },
      "text/plain": [
       "HBox(children=(FloatProgress(value=0.0, max=1.0), HTML(value='')))"
      ]
     },
     "metadata": {},
     "output_type": "display_data"
    },
    {
     "name": "stdout",
     "output_type": "stream",
     "text": [
      "\n"
     ]
    }
   ],
   "source": [
    "all_questions, all_answers = [], []\n",
    "offset = 0\n",
    "\n",
    "for dump in tqdm(dumps):\n",
    "    questions = pd.read_csv(dump / 'questions.tsv', sep='\\t')\n",
    "    answers = pd.read_csv(dump / 'answers.tsv', sep='\\t')\n",
    "    \n",
    "    questions['host'] = answers['host'] = dump.name\n",
    "       \n",
    "    accepted_answers = questions['AcceptedAnswerId'].dropna().astype(int)\n",
    "    answers['is_answer_accepted'] = answers['Id'].astype(int).isin(accepted_answers)\n",
    "    \n",
    "    questions['Id'] = questions['Id'].astype(int) + offset\n",
    "    answers['Id'] = answers['Id'].astype(int) + offset\n",
    "    answers['ParentId'] = answers['ParentId'].astype(int) + offset\n",
    "\n",
    "    \n",
    "    all_questions.append(questions)\n",
    "    all_answers.append(answers)\n",
    "    \n",
    "    offset = max(questions['Id'].max(), answers['Id'].max()) + 1"
   ]
  },
  {
   "cell_type": "code",
   "execution_count": 5,
   "metadata": {
    "pycharm": {}
   },
   "outputs": [
    {
     "data": {
      "text/plain": [
       "1"
      ]
     },
     "execution_count": 5,
     "metadata": {},
     "output_type": "execute_result"
    }
   ],
   "source": [
    "len(all_answers)"
   ]
  },
  {
   "cell_type": "code",
   "execution_count": 6,
   "metadata": {
    "pycharm": {}
   },
   "outputs": [],
   "source": [
    "all_questions = pd.concat(all_questions, sort=False).reset_index()\n",
    "all_answers = pd.concat(all_answers, sort=False).reset_index()"
   ]
  },
  {
   "cell_type": "code",
   "execution_count": 7,
   "metadata": {
    "pycharm": {}
   },
   "outputs": [
    {
     "data": {
      "text/plain": [
       "((2714, 17), (4908, 13))"
      ]
     },
     "execution_count": 7,
     "metadata": {},
     "output_type": "execute_result"
    }
   ],
   "source": [
    "all_questions.shape, all_answers.shape"
   ]
  },
  {
   "cell_type": "code",
   "execution_count": 8,
   "metadata": {
    "pycharm": {}
   },
   "outputs": [
    {
     "data": {
      "text/plain": [
       "0.2899348003259984"
      ]
     },
     "execution_count": 8,
     "metadata": {},
     "output_type": "execute_result"
    }
   ],
   "source": [
    "answers['is_answer_accepted'].mean()"
   ]
  },
  {
   "cell_type": "code",
   "execution_count": 9,
   "metadata": {
    "pycharm": {}
   },
   "outputs": [
    {
     "data": {
      "application/vnd.jupyter.widget-view+json": {
       "model_id": "d7bf8dae60854d46aa5ec2aaa1b1898e",
       "version_major": 2,
       "version_minor": 0
      },
      "text/plain": [
       "HBox(children=(FloatProgress(value=0.0, max=2714.0), HTML(value='')))"
      ]
     },
     "metadata": {},
     "output_type": "display_data"
    },
    {
     "name": "stdout",
     "output_type": "stream",
     "text": [
      "\n"
     ]
    },
    {
     "data": {
      "application/vnd.jupyter.widget-view+json": {
       "model_id": "fd51bacb2bd343e7b736bee668e661fa",
       "version_major": 2,
       "version_minor": 0
      },
      "text/plain": [
       "HBox(children=(FloatProgress(value=0.0, max=2714.0), HTML(value='')))"
      ]
     },
     "metadata": {},
     "output_type": "display_data"
    },
    {
     "name": "stdout",
     "output_type": "stream",
     "text": [
      "\n"
     ]
    }
   ],
   "source": [
    "html_pattern = re.compile(r'<.*?>')\n",
    "\n",
    "question_body = all_questions['Body'].astype(str).progress_apply(lambda s: html_pattern.sub('', s))\n",
    "question_title = all_questions['Title'].astype(str).progress_apply(lambda s: html_pattern.sub('', s))"
   ]
  },
  {
   "cell_type": "code",
   "execution_count": 10,
   "metadata": {
    "pycharm": {}
   },
   "outputs": [
    {
     "data": {
      "application/vnd.jupyter.widget-view+json": {
       "model_id": "df243821aeb345c496127674317171d2",
       "version_major": 2,
       "version_minor": 0
      },
      "text/plain": [
       "HBox(children=(FloatProgress(value=0.0, max=2714.0), HTML(value='')))"
      ]
     },
     "metadata": {},
     "output_type": "display_data"
    },
    {
     "name": "stdout",
     "output_type": "stream",
     "text": [
      "\n"
     ]
    }
   ],
   "source": [
    "question_body_cleaned = question_body.progress_apply(lambda s: s.replace('\\n','')).values"
   ]
  },
  {
   "cell_type": "code",
   "execution_count": 11,
   "metadata": {
    "pycharm": {}
   },
   "outputs": [],
   "source": [
    "n_jobs = 4\n",
    "chunksize = 100000\n",
    "n_chunks = int(len(question_body_cleaned) / chunksize) + 1"
   ]
  },
  {
   "cell_type": "code",
   "execution_count": 12,
   "metadata": {
    "pycharm": {},
    "scrolled": true
   },
   "outputs": [
    {
     "name": "stderr",
     "output_type": "stream",
     "text": [
      "\n"
     ]
    },
    {
     "data": {
      "application/vnd.jupyter.widget-view+json": {
       "model_id": "de511be31f9b4692b92af5ba3d1d764c",
       "version_major": 2,
       "version_minor": 0
      },
      "text/plain": [
       "HBox(children=(FloatProgress(value=0.0, max=1.0), HTML(value='')))"
      ]
     },
     "metadata": {},
     "output_type": "display_data"
    },
    {
     "name": "stdout",
     "output_type": "stream",
     "text": [
      "\n",
      "CPU times: user 59.7 ms, sys: 40.7 ms, total: 100 ms\n",
      "Wall time: 564 ms\n"
     ]
    }
   ],
   "source": [
    "%%time\n",
    "import fasttext\n",
    "from multiprocessing import Pool\n",
    "\n",
    "def predict_lang(sentences):\n",
    "    model = fasttext.load_model('../../input/lid.176.bin')\n",
    "    return model.predict(list(sentences), k=1)[0]\n",
    "\n",
    "with Pool(n_jobs) as pool:\n",
    "    question_lang = list(\n",
    "        tqdm(\n",
    "            pool.imap(predict_lang, [question_body_cleaned[i*chunksize : (i+1)*chunksize] \n",
    "                                     for i in range(n_chunks)]),\n",
    "            total = n_chunks\n",
    "        )\n",
    "    )\n",
    "    \n",
    "question_lang = list(map(np.array, question_lang))\n",
    "question_lang = np.vstack(question_lang).flatten()"
   ]
  },
  {
   "cell_type": "code",
   "execution_count": 13,
   "metadata": {
    "pycharm": {}
   },
   "outputs": [],
   "source": [
    "question_lang = np.array([l[-2:] for l in question_lang])"
   ]
  },
  {
   "cell_type": "code",
   "execution_count": 14,
   "metadata": {
    "pycharm": {}
   },
   "outputs": [
    {
     "data": {
      "image/png": "[encoded data removed]",
      "text/plain": [
       "<Figure size 432x720 with 1 Axes>"
      ]
     },
     "metadata": {
      "needs_background": "light"
     },
     "output_type": "display_data"
    }
   ],
   "source": [
    "plt.figure(figsize=(6,10))\n",
    "sns.countplot(y=question_lang, orient='h');"
   ]
  },
  {
   "cell_type": "code",
   "execution_count": 15,
   "metadata": {
    "pycharm": {}
   },
   "outputs": [],
   "source": [
    "question_ans_agg_features = pd.concat([\n",
    "    all_answers.groupby('ParentId')['Score'].max().rename('answers_max_score'),\n",
    "    all_answers.groupby('ParentId')['Score'].mean().rename('answers_mean_score')\n",
    "], axis=1, sort=False)"
   ]
  },
  {
   "cell_type": "code",
   "execution_count": 16,
   "metadata": {
    "pycharm": {}
   },
   "outputs": [],
   "source": [
    "question_features = all_questions[['Id','host','username','Score','ViewCount','FavoriteCount','AnswerCount']]\n",
    "question_features = question_features.merge(question_ans_agg_features, left_on='Id', right_on='ParentId', how='left')\n",
    "question_features = pd.concat([question_features, question_title, question_body], axis=1, sort=False)\n",
    "\n",
    "question_features = question_features.iloc[\n",
    "        (question_lang=='en') &\n",
    "        (all_questions['AnswerCount'].ravel() != 0)]"
   ]
  },
  {
   "cell_type": "code",
   "execution_count": 17,
   "metadata": {
    "pycharm": {},
    "scrolled": true
   },
   "outputs": [
    {
     "name": "stdout",
     "output_type": "stream",
     "text": [
      "Index(['Id', 'host', 'username', 'Score', 'ViewCount', 'FavoriteCount',\n",
      "       'AnswerCount', 'answers_max_score', 'answers_mean_score', 'Title',\n",
      "       'Body'],\n",
      "      dtype='object')\n"
     ]
    }
   ],
   "source": [
    "print(question_features.columns)"
   ]
  },
  {
   "cell_type": "code",
   "execution_count": 18,
   "metadata": {
    "pycharm": {}
   },
   "outputs": [],
   "source": [
    "question_features.columns = ['id', 'host', 'question_username', 'question_score', 'question_views', 'question_favs',\n",
    "       'answers_count', 'answers_max_score', 'answers_mean_score', 'title', 'body']"
   ]
  },
  {
   "cell_type": "code",
   "execution_count": null,
   "metadata": {
    "pycharm": {}
   },
   "outputs": [],
   "source": []
  },
  {
   "cell_type": "code",
   "execution_count": 19,
   "metadata": {
    "pycharm": {}
   },
   "outputs": [],
   "source": [
    "def select_answers(all_answers, max_answers_per_question =2):\n",
    "    answer_ids = all_answers[['Id','ParentId','is_answer_accepted']]\n",
    "\n",
    "    selected_answers = answer_ids['Id'][answer_ids['is_answer_accepted']].tolist()\n",
    "    n_additional = max_answers_per_question - (answer_ids.groupby('ParentId')['is_answer_accepted'].sum() > 0).astype(int)\n",
    "\n",
    "    additional_answers = answer_ids.merge(n_additional.rename('n_additional').reset_index(), on='ParentId')\n",
    "\n",
    "    while len(additional_answers) > 0:\n",
    "        print(len(additional_answers))\n",
    "        additional_answers = additional_answers[~additional_answers['Id'].isin(selected_answers)]\n",
    "        additional_answers = additional_answers[additional_answers['n_additional'] > 0]\n",
    "        additional_answers = additional_answers.iloc[np.random.permutation(len(additional_answers))].reset_index(drop=True)\n",
    "        selected_answers += additional_answers['Id'].loc[additional_answers['ParentId'].drop_duplicates().index].tolist()\n",
    "\n",
    "        additional_answers['n_additional'] = additional_answers['n_additional'] - 1\n",
    "    return selected_answers"
   ]
  },
  {
   "cell_type": "code",
   "execution_count": 20,
   "metadata": {
    "pycharm": {}
   },
   "outputs": [
    {
     "name": "stdout",
     "output_type": "stream",
     "text": [
      "4908\n",
      "3485\n",
      "971\n"
     ]
    }
   ],
   "source": [
    "selected_answers = all_answers['Id'].isin(select_answers(all_answers))"
   ]
  },
  {
   "cell_type": "code",
   "execution_count": 21,
   "metadata": {
    "pycharm": {},
    "scrolled": true
   },
   "outputs": [],
   "source": [
    "answer_features = all_answers[selected_answers][['ParentId', 'username', 'Body', 'Score','is_answer_accepted']]"
   ]
  },
  {
   "cell_type": "code",
   "execution_count": 22,
   "metadata": {
    "pycharm": {}
   },
   "outputs": [
    {
     "data": {
      "application/vnd.jupyter.widget-view+json": {
       "model_id": "12fa30cd346c406bab9c217924ca7f53",
       "version_major": 2,
       "version_minor": 0
      },
      "text/plain": [
       "HBox(children=(FloatProgress(value=0.0, max=3911.0), HTML(value='')))"
      ]
     },
     "metadata": {},
     "output_type": "display_data"
    },
    {
     "name": "stdout",
     "output_type": "stream",
     "text": [
      "\n"
     ]
    }
   ],
   "source": [
    "answer_features['Body'] = answer_features['Body'].astype(str).progress_apply(lambda s: html_pattern.sub('', s))"
   ]
  },
  {
   "cell_type": "code",
   "execution_count": 23,
   "metadata": {
    "pycharm": {}
   },
   "outputs": [
    {
     "name": "stdout",
     "output_type": "stream",
     "text": [
      "Index(['ParentId', 'username', 'Body', 'Score', 'is_answer_accepted'], dtype='object')\n"
     ]
    }
   ],
   "source": [
    "print(answer_features.columns)"
   ]
  },
  {
   "cell_type": "code",
   "execution_count": 24,
   "metadata": {
    "pycharm": {}
   },
   "outputs": [],
   "source": [
    "answer_features.columns = ['ParentId', 'answer_username', 'answer', 'answer_score', 'is_answer_accepted']"
   ]
  },
  {
   "cell_type": "code",
   "execution_count": 25,
   "metadata": {
    "pycharm": {}
   },
   "outputs": [],
   "source": [
    "qa_features = question_features.merge(answer_features, left_on='id', right_on='ParentId', how='inner')"
   ]
  },
  {
   "cell_type": "code",
   "execution_count": 26,
   "metadata": {
    "pycharm": {}
   },
   "outputs": [],
   "source": [
    "qa_features.drop(columns=['ParentId'], inplace=True)"
   ]
  },
  {
   "cell_type": "code",
   "execution_count": 27,
   "metadata": {},
   "outputs": [
    {
     "name": "stdout",
     "output_type": "stream",
     "text": [
      "<class 'pandas.core.frame.DataFrame'>\n",
      "Int64Index: 3899 entries, 0 to 3898\n",
      "Data columns (total 15 columns):\n",
      " #   Column              Non-Null Count  Dtype  \n",
      "---  ------              --------------  -----  \n",
      " 0   id                  3899 non-null   int64  \n",
      " 1   host                3899 non-null   object \n",
      " 2   question_username   3899 non-null   object \n",
      " 3   question_score      3899 non-null   int64  \n",
      " 4   question_views      3899 non-null   int64  \n",
      " 5   question_favs       989 non-null    float64\n",
      " 6   answers_count       3899 non-null   int64  \n",
      " 7   answers_max_score   3899 non-null   float64\n",
      " 8   answers_mean_score  3899 non-null   float64\n",
      " 9   title               3899 non-null   object \n",
      " 10  body                3899 non-null   object \n",
      " 11  answer_username     3899 non-null   object \n",
      " 12  answer              3899 non-null   object \n",
      " 13  answer_score        3899 non-null   int64  \n",
      " 14  is_answer_accepted  3899 non-null   bool   \n",
      "dtypes: bool(1), float64(3), int64(5), object(6)\n",
      "memory usage: 460.7+ KB\n"
     ]
    }
   ],
   "source": [
    "qa_features.info()"
   ]
  },
  {
   "cell_type": "code",
   "execution_count": 28,
   "metadata": {
    "pycharm": {},
    "scrolled": true
   },
   "outputs": [],
   "source": [
    "targets = [ 'question_score', 'question_views', 'question_favs', \n",
    "           'answers_count', 'answers_max_score',  'answers_mean_score', 'answer_score', 'is_answer_accepted']\n",
    "\n",
    "qa_features[targets] = qa_features[targets].fillna(0)\n",
    "qa_features[targets] = np.sign(qa_features[targets]) * np.log1p(np.abs(qa_features[targets].astype('float')))\n",
    "qa_features[targets] = qa_features[targets] / qa_features[targets].std()"
   ]
  },
  {
   "cell_type": "code",
   "execution_count": 29,
   "metadata": {},
   "outputs": [
    {
     "data": {
      "text/html": [
       "<div>\n",
       "<style scoped>\n",
       "    .dataframe tbody tr th:only-of-type {\n",
       "        vertical-align: middle;\n",
       "    }\n",
       "\n",
       "    .dataframe tbody tr th {\n",
       "        vertical-align: top;\n",
       "    }\n",
       "\n",
       "    .dataframe thead th {\n",
       "        text-align: right;\n",
       "    }\n",
       "</style>\n",
       "<table border=\"1\" class=\"dataframe\">\n",
       "  <thead>\n",
       "    <tr style=\"text-align: right;\">\n",
       "      <th></th>\n",
       "      <th>id</th>\n",
       "      <th>host</th>\n",
       "      <th>question_username</th>\n",
       "      <th>question_score</th>\n",
       "      <th>question_views</th>\n",
       "      <th>question_favs</th>\n",
       "      <th>answers_count</th>\n",
       "      <th>answers_max_score</th>\n",
       "      <th>answers_mean_score</th>\n",
       "      <th>title</th>\n",
       "      <th>body</th>\n",
       "      <th>answer_username</th>\n",
       "      <th>answer</th>\n",
       "      <th>answer_score</th>\n",
       "      <th>is_answer_accepted</th>\n",
       "    </tr>\n",
       "  </thead>\n",
       "  <tbody>\n",
       "    <tr>\n",
       "      <th>0</th>\n",
       "      <td>1</td>\n",
       "      <td>3dprinting.stackexchange.com</td>\n",
       "      <td>Adam Davis</td>\n",
       "      <td>3.76781</td>\n",
       "      <td>3.91261</td>\n",
       "      <td>0</td>\n",
       "      <td>3.18806</td>\n",
       "      <td>3.74932</td>\n",
       "      <td>3.43195</td>\n",
       "      <td>How to obtain high resolution prints in a shor...</td>\n",
       "      <td>When I've printed an object I've had to choose...</td>\n",
       "      <td>hroncok</td>\n",
       "      <td>You could experiment with slicing. For example...</td>\n",
       "      <td>3.21337</td>\n",
       "      <td>2.07692</td>\n",
       "    </tr>\n",
       "    <tr>\n",
       "      <th>1</th>\n",
       "      <td>1</td>\n",
       "      <td>3dprinting.stackexchange.com</td>\n",
       "      <td>Adam Davis</td>\n",
       "      <td>3.76781</td>\n",
       "      <td>3.91261</td>\n",
       "      <td>0</td>\n",
       "      <td>3.18806</td>\n",
       "      <td>3.74932</td>\n",
       "      <td>3.43195</td>\n",
       "      <td>How to obtain high resolution prints in a shor...</td>\n",
       "      <td>When I've printed an object I've had to choose...</td>\n",
       "      <td>plaintoothpaste</td>\n",
       "      <td>For FDM technologies in general with a single ...</td>\n",
       "      <td>1.60668</td>\n",
       "      <td>0</td>\n",
       "    </tr>\n",
       "    <tr>\n",
       "      <th>2</th>\n",
       "      <td>4</td>\n",
       "      <td>3dprinting.stackexchange.com</td>\n",
       "      <td>Adam Davis</td>\n",
       "      <td>4.54164</td>\n",
       "      <td>3.92155</td>\n",
       "      <td>2.77997</td>\n",
       "      <td>4.67042</td>\n",
       "      <td>3.32048</td>\n",
       "      <td>3.43195</td>\n",
       "      <td>Are there any metals that exhibit a large glas...</td>\n",
       "      <td>Plastic is used in 3D FDM/FFF printing partly ...</td>\n",
       "      <td>TextGeek</td>\n",
       "      <td>I\"m no expert on this, but the article at http...</td>\n",
       "      <td>2.62039</td>\n",
       "      <td>0</td>\n",
       "    </tr>\n",
       "    <tr>\n",
       "      <th>3</th>\n",
       "      <td>4</td>\n",
       "      <td>3dprinting.stackexchange.com</td>\n",
       "      <td>Adam Davis</td>\n",
       "      <td>4.54164</td>\n",
       "      <td>3.92155</td>\n",
       "      <td>2.77997</td>\n",
       "      <td>4.67042</td>\n",
       "      <td>3.32048</td>\n",
       "      <td>3.43195</td>\n",
       "      <td>Are there any metals that exhibit a large glas...</td>\n",
       "      <td>Plastic is used in 3D FDM/FFF printing partly ...</td>\n",
       "      <td>Ryan Carlyle</td>\n",
       "      <td>A few things are required for effective extrus...</td>\n",
       "      <td>2.84583</td>\n",
       "      <td>2.07692</td>\n",
       "    </tr>\n",
       "    <tr>\n",
       "      <th>4</th>\n",
       "      <td>2</td>\n",
       "      <td>3dprinting.stackexchange.com</td>\n",
       "      <td>kenorb</td>\n",
       "      <td>5.29103</td>\n",
       "      <td>5.52632</td>\n",
       "      <td>3.50793</td>\n",
       "      <td>5.1995</td>\n",
       "      <td>5.19514</td>\n",
       "      <td>4.52199</td>\n",
       "      <td>Is 3D printing safe for your health?</td>\n",
       "      <td>I would like to buy a 3D printer, but I'm conc...</td>\n",
       "      <td>Tom van der Zanden</td>\n",
       "      <td>There is very little information about safety ...</td>\n",
       "      <td>4.45251</td>\n",
       "      <td>2.07692</td>\n",
       "    </tr>\n",
       "  </tbody>\n",
       "</table>\n",
       "</div>"
      ],
      "text/plain": [
       "   id                          host question_username question_score  \\\n",
       "0   1  3dprinting.stackexchange.com        Adam Davis        3.76781   \n",
       "1   1  3dprinting.stackexchange.com        Adam Davis        3.76781   \n",
       "2   4  3dprinting.stackexchange.com        Adam Davis        4.54164   \n",
       "3   4  3dprinting.stackexchange.com        Adam Davis        4.54164   \n",
       "4   2  3dprinting.stackexchange.com            kenorb        5.29103   \n",
       "\n",
       "  question_views question_favs answers_count answers_max_score  \\\n",
       "0        3.91261             0       3.18806           3.74932   \n",
       "1        3.91261             0       3.18806           3.74932   \n",
       "2        3.92155       2.77997       4.67042           3.32048   \n",
       "3        3.92155       2.77997       4.67042           3.32048   \n",
       "4        5.52632       3.50793        5.1995           5.19514   \n",
       "\n",
       "  answers_mean_score                                              title  \\\n",
       "0            3.43195  How to obtain high resolution prints in a shor...   \n",
       "1            3.43195  How to obtain high resolution prints in a shor...   \n",
       "2            3.43195  Are there any metals that exhibit a large glas...   \n",
       "3            3.43195  Are there any metals that exhibit a large glas...   \n",
       "4            4.52199               Is 3D printing safe for your health?   \n",
       "\n",
       "                                                body     answer_username  \\\n",
       "0  When I've printed an object I've had to choose...             hroncok   \n",
       "1  When I've printed an object I've had to choose...     plaintoothpaste   \n",
       "2  Plastic is used in 3D FDM/FFF printing partly ...            TextGeek   \n",
       "3  Plastic is used in 3D FDM/FFF printing partly ...        Ryan Carlyle   \n",
       "4  I would like to buy a 3D printer, but I'm conc...  Tom van der Zanden   \n",
       "\n",
       "                                              answer answer_score  \\\n",
       "0  You could experiment with slicing. For example...      3.21337   \n",
       "1  For FDM technologies in general with a single ...      1.60668   \n",
       "2  I\"m no expert on this, but the article at http...      2.62039   \n",
       "3  A few things are required for effective extrus...      2.84583   \n",
       "4  There is very little information about safety ...      4.45251   \n",
       "\n",
       "  is_answer_accepted  \n",
       "0            2.07692  \n",
       "1                  0  \n",
       "2                  0  \n",
       "3            2.07692  \n",
       "4            2.07692  "
      ]
     },
     "execution_count": 29,
     "metadata": {},
     "output_type": "execute_result"
    }
   ],
   "source": [
    "qa_features.head()"
   ]
  },
  {
   "cell_type": "code",
   "execution_count": 30,
   "metadata": {
    "pycharm": {},
    "scrolled": true
   },
   "outputs": [],
   "source": [
    "qa_features.rename(columns={'body': 'question_body',\n",
    "                                'title': 'question_title'}).to_csv(PATH_TO_SAVE / 'qa_stackexchange_cleaned.csv',\n",
    "                                                                   index=False)\n",
    "qa_features.rename(columns={'body': 'question_body',\n",
    "                            'title': 'question_title'}).head(50).to_csv(PATH_TO_SAVE / 'qa_stackexchange_cleaned_toy.csv',\n",
    "                                                                   index=False)"
   ]
  }
 ],
 "metadata": {
  "kernelspec": {
   "display_name": "Python 3",
   "language": "python",
   "name": "python3"
  },
  "language_info": {
   "codemirror_mode": {
    "name": "ipython",
    "version": 3
   },
   "file_extension": ".py",
   "mimetype": "text/x-python",
   "name": "python",
   "nbconvert_exporter": "python",
   "pygments_lexer": "ipython3",
   "version": "3.7.3"
  }
 },
 "nbformat": 4,
 "nbformat_minor": 2
}
