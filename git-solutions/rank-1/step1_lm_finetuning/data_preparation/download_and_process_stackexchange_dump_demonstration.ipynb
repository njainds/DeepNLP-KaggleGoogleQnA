{
 "cells": [
  {
   "cell_type": "markdown",
   "metadata": {},
   "source": [
    "For a better version of the code, please take a look at `scrape_stack_exchange.py`"
   ]
  },
  {
   "cell_type": "code",
   "execution_count": 1,
   "metadata": {},
   "outputs": [],
   "source": [
    "import os\n",
    "import xml.etree.cElementTree as et\n",
    "from multiprocessing import Pool, cpu_count\n",
    "from pathlib import Path\n",
    "import pandas as pd\n",
    "import requests\n",
    "import wget\n",
    "from bs4 import BeautifulSoup\n",
    "from tqdm.notebook import tqdm"
   ]
  },
  {
   "cell_type": "code",
   "execution_count": 2,
   "metadata": {},
   "outputs": [],
   "source": [
    "PATH_TO_SX_DUMP = Path('../../input/sx_dump')\n",
    "!mkdir -p $PATH_TO_SX_DUMP"
   ]
  },
  {
   "cell_type": "code",
   "execution_count": 3,
   "metadata": {},
   "outputs": [],
   "source": [
    "r = requests.get(\"https://archive.org/download/stackexchange\")\n",
    "soup = BeautifulSoup(r.content, \"html.parser\")\n"
   ]
  },
  {
   "cell_type": "code",
   "execution_count": 4,
   "metadata": {},
   "outputs": [],
   "source": [
    "listing_table = soup.find('table', class_='directory-listing-table')"
   ]
  },
  {
   "cell_type": "code",
   "execution_count": 5,
   "metadata": {},
   "outputs": [
    {
     "data": {
      "text/plain": [
       "715"
      ]
     },
     "execution_count": 5,
     "metadata": {},
     "output_type": "execute_result"
    }
   ],
   "source": [
    "links = listing_table.findAll('a', href=True)\n",
    "len(links)"
   ]
  },
  {
   "cell_type": "markdown",
   "metadata": {},
   "source": [
    "**Write all links to a file**"
   ]
  },
  {
   "cell_type": "code",
   "execution_count": 6,
   "metadata": {},
   "outputs": [],
   "source": [
    "link_list = '\\n'.join(['https://archive.org/download/stackexchange/' + l['href'] for l in links[1:]])"
   ]
  },
  {
   "cell_type": "code",
   "execution_count": 7,
   "metadata": {},
   "outputs": [],
   "source": [
    "with open(PATH_TO_SX_DUMP / 'link_list.txt','w') as f:\n",
    "    f.write(link_list)"
   ]
  },
  {
   "cell_type": "markdown",
   "metadata": {},
   "source": [
    "**For demonstration we pick the first two (skipping duplicates)**\n",
    "\n",
    "You'll need 7z to extract archives."
   ]
  },
  {
   "cell_type": "code",
   "execution_count": 8,
   "metadata": {},
   "outputs": [
    {
     "data": {
      "text/plain": [
       "['https://archive.org/download/stackexchange/3dprinting.meta.stackexchange.com.7z',\n",
       " 'https://archive.org/download/stackexchange/3dprinting.meta.stackexchange.com.7z/',\n",
       " 'https://archive.org/download/stackexchange/3dprinting.stackexchange.com.7z',\n",
       " 'https://archive.org/download/stackexchange/3dprinting.stackexchange.com.7z/']"
      ]
     },
     "execution_count": 8,
     "metadata": {},
     "output_type": "execute_result"
    }
   ],
   "source": [
    "link_list.split('\\n')[:4]"
   ]
  },
  {
   "cell_type": "code",
   "execution_count": 9,
   "metadata": {},
   "outputs": [
    {
     "data": {
      "application/vnd.jupyter.widget-view+json": {
       "model_id": "0229192c4c554e6f9ba14370337fbbad",
       "version_major": 2,
       "version_minor": 0
      },
      "text/plain": [
       "HBox(children=(FloatProgress(value=0.0, max=4.0), HTML(value='')))"
      ]
     },
     "metadata": {},
     "output_type": "display_data"
    },
    {
     "name": "stdout",
     "output_type": "stream",
     "text": [
      "Downloading 3dprinting.meta.stackexchange.com.7z...\n",
      "7z e ../../input/sx_dump/3dprinting.meta.stackexchange.com.7z -o../../input/sx_dump/3dprinting.meta.stackexchange.com\n",
      "Downloading 3dprinting.stackexchange.com.7z...\n",
      "7z e ../../input/sx_dump/3dprinting.stackexchange.com.7z -o../../input/sx_dump/3dprinting.stackexchange.com\n",
      "\n"
     ]
    }
   ],
   "source": [
    "for link in tqdm(links[1:5]):\n",
    "    filename = str(link['href'])\n",
    "    if filename[-1] != '/':\n",
    "        print(f\"Downloading {filename}...\")\n",
    "        url = 'https://archive.org/download/stackexchange/' + filename\n",
    "        filename = wget.download(url, out=str(PATH_TO_SX_DUMP))\n",
    "        print(f\"7z e {filename} -o{filename.rstrip('.7z')}\")\n",
    "        os.system(f\"7z e {filename} -o{filename.rstrip('.7z')}\")"
   ]
  },
  {
   "cell_type": "markdown",
   "metadata": {},
   "source": [
    "**Parsing a single catalog - `3dprinting.stackexchange.com/`**"
   ]
  },
  {
   "cell_type": "code",
   "execution_count": 10,
   "metadata": {},
   "outputs": [],
   "source": [
    "stackexchange_dir = PATH_TO_SX_DUMP / '3dprinting.stackexchange.com/'"
   ]
  },
  {
   "cell_type": "code",
   "execution_count": 11,
   "metadata": {},
   "outputs": [],
   "source": [
    "def xml_to_pandas(root, columns, row_name='row'):\n",
    "    df = None\n",
    "    try:\n",
    "\n",
    "        rows = root.findall('.//{}'.format(row_name))\n",
    "\n",
    "        xml_data = [[row.get(c) for c in columns] for row in rows]  # NESTED LIST\n",
    "\n",
    "        df = pd.DataFrame(xml_data, columns=columns)\n",
    "    except Exception as e:\n",
    "        print('[xml_to_pandas] Exception: {}.'.format(e))\n",
    "\n",
    "    return df"
   ]
  },
  {
   "cell_type": "code",
   "execution_count": 12,
   "metadata": {},
   "outputs": [],
   "source": [
    "def parse_xml_dump(pathes):\n",
    "    stackexchange_dir, output_dir = pathes\n",
    "    \n",
    "    path = stackexchange_dir / 'Users.xml'\n",
    "    columns =['Id', 'Reputation', 'DisplayName']\n",
    "\n",
    "    root = et.parse(path)\n",
    "    user_df = xml_to_pandas(root, columns)\n",
    "    user_df = user_df.rename(columns ={\n",
    "        'Reputation':'user_reputation',\n",
    "        'DisplayName':'username',\n",
    "        'Id':'OwnerUserId',\n",
    "    })\n",
    "    \n",
    "    path = stackexchange_dir / 'Posts.xml'\n",
    "    columns = [\n",
    "        'AcceptedAnswerId',\n",
    "        'AnswerCount',\n",
    "        'Body',\n",
    "        'ClosedDate',\n",
    "        'CommentCount',\n",
    "        'CreationDate',\n",
    "        'FavoriteCount',\n",
    "        'Id',\n",
    "        'LastActivityDate',\n",
    "        'OwnerUserId',\n",
    "        'ParentId',\n",
    "        'PostTypeId',\n",
    "        'Score',\n",
    "        'Title',\n",
    "        'ViewCount']\n",
    "\n",
    "    root = et.parse(path)\n",
    "    posts_df = xml_to_pandas(root, columns)\n",
    "\n",
    "    question_columns = ['Id',\n",
    "     'CreationDate',\n",
    "     'Score',\n",
    "     'ViewCount',\n",
    "     'Body',\n",
    "     'OwnerUserId',\n",
    "     'LastActivityDate',\n",
    "     'Title',\n",
    "     'AnswerCount',\n",
    "     'CommentCount',\n",
    "     'FavoriteCount',\n",
    "     'AcceptedAnswerId',\n",
    "     'ClosedDate',]\n",
    "\n",
    "    answer_columns =['Id',\n",
    "     'CreationDate',\n",
    "     'Score',\n",
    "     'Body',\n",
    "     'OwnerUserId',\n",
    "     'LastActivityDate',\n",
    "     'CommentCount',\n",
    "     'ParentId']\n",
    "\n",
    "    question_df = posts_df[posts_df['PostTypeId']== '1'][question_columns]\n",
    "    answer_df = posts_df[posts_df['PostTypeId']== '2'][answer_columns]\n",
    "\n",
    "    answer_df = answer_df.merge(user_df, on='OwnerUserId')\n",
    "    question_df = question_df.merge(user_df, on='OwnerUserId')\n",
    "    \n",
    "    answer_df.to_csv(output_dir / 'answers.tsv', sep='\\t', index=False)\n",
    "    question_df.to_csv(output_dir / 'questions.tsv', sep='\\t', index=False)\n",
    "    \n",
    "    return question_df, answer_df"
   ]
  },
  {
   "cell_type": "code",
   "execution_count": 13,
   "metadata": {},
   "outputs": [],
   "source": [
    "output_dir = PATH_TO_SX_DUMP / 'stackexchange_parsed'\n",
    "\n",
    "dumps = list(PATH_TO_SX_DUMP.glob('*com'))\n",
    "dumps = [path for path in dumps if '.meta' not in path.name]\n",
    "\n",
    "outputs = [output_dir / path.name for path in dumps]\n",
    "for path in outputs:\n",
    "    if not path.exists():\n",
    "        os.makedirs(str(path))"
   ]
  },
  {
   "cell_type": "code",
   "execution_count": 14,
   "metadata": {
    "scrolled": true
   },
   "outputs": [
    {
     "data": {
      "application/vnd.jupyter.widget-view+json": {
       "model_id": "cd823fc91c9849cdb4d342ce1444b0f2",
       "version_major": 2,
       "version_minor": 0
      },
      "text/plain": [
       "HBox(children=(FloatProgress(value=0.0, max=1.0), HTML(value='')))"
      ]
     },
     "metadata": {},
     "output_type": "display_data"
    },
    {
     "name": "stdout",
     "output_type": "stream",
     "text": [
      "\n"
     ]
    }
   ],
   "source": [
    "with Pool(cpu_count()) as pool:\n",
    "    list(tqdm(pool.imap(parse_xml_dump, zip(dumps, outputs)), total=len(dumps)))"
   ]
  },
  {
   "cell_type": "markdown",
   "metadata": {},
   "source": [
    "**Get questions and answers**"
   ]
  },
  {
   "cell_type": "code",
   "execution_count": 15,
   "metadata": {
    "scrolled": false
   },
   "outputs": [],
   "source": [
    "three_d_printing_output = PATH_TO_SX_DUMP / 'stackexchange_parsed/3dprinting.stackexchange.com/'\n",
    "three_d_printing_dump = PATH_TO_SX_DUMP / '3dprinting.stackexchange.com'"
   ]
  },
  {
   "cell_type": "code",
   "execution_count": 16,
   "metadata": {
    "scrolled": false
   },
   "outputs": [],
   "source": [
    "question_df, answer_df = parse_xml_dump((three_d_printing_dump, three_d_printing_output))"
   ]
  },
  {
   "cell_type": "code",
   "execution_count": 21,
   "metadata": {},
   "outputs": [
    {
     "data": {
      "text/html": [
       "<div>\n",
       "<style scoped>\n",
       "    .dataframe tbody tr th:only-of-type {\n",
       "        vertical-align: middle;\n",
       "    }\n",
       "\n",
       "    .dataframe tbody tr th {\n",
       "        vertical-align: top;\n",
       "    }\n",
       "\n",
       "    .dataframe thead th {\n",
       "        text-align: right;\n",
       "    }\n",
       "</style>\n",
       "<table border=\"1\" class=\"dataframe\">\n",
       "  <thead>\n",
       "    <tr style=\"text-align: right;\">\n",
       "      <th></th>\n",
       "      <th>Id</th>\n",
       "      <th>CreationDate</th>\n",
       "      <th>Score</th>\n",
       "      <th>ViewCount</th>\n",
       "      <th>Body</th>\n",
       "      <th>OwnerUserId</th>\n",
       "      <th>LastActivityDate</th>\n",
       "      <th>Title</th>\n",
       "      <th>AnswerCount</th>\n",
       "      <th>CommentCount</th>\n",
       "      <th>FavoriteCount</th>\n",
       "      <th>AcceptedAnswerId</th>\n",
       "      <th>ClosedDate</th>\n",
       "      <th>user_reputation</th>\n",
       "      <th>username</th>\n",
       "    </tr>\n",
       "  </thead>\n",
       "  <tbody>\n",
       "    <tr>\n",
       "      <th>0</th>\n",
       "      <td>1</td>\n",
       "      <td>2016-01-12T18:45:19.963</td>\n",
       "      <td>10</td>\n",
       "      <td>303</td>\n",
       "      <td>&lt;p&gt;When I've printed an object I've had to cho...</td>\n",
       "      <td>16</td>\n",
       "      <td>2017-10-31T02:31:08.560</td>\n",
       "      <td>How to obtain high resolution prints in a shor...</td>\n",
       "      <td>2</td>\n",
       "      <td>6</td>\n",
       "      <td>None</td>\n",
       "      <td>51</td>\n",
       "      <td>None</td>\n",
       "      <td>1783</td>\n",
       "      <td>Adam Davis</td>\n",
       "    </tr>\n",
       "    <tr>\n",
       "      <th>1</th>\n",
       "      <td>4</td>\n",
       "      <td>2016-01-12T18:50:55.973</td>\n",
       "      <td>17</td>\n",
       "      <td>307</td>\n",
       "      <td>&lt;p&gt;Plastic is used in 3D FDM/FFF printing part...</td>\n",
       "      <td>16</td>\n",
       "      <td>2016-06-10T13:32:20.493</td>\n",
       "      <td>Are there any metals that exhibit a large glas...</td>\n",
       "      <td>4</td>\n",
       "      <td>0</td>\n",
       "      <td>2</td>\n",
       "      <td>1289</td>\n",
       "      <td>None</td>\n",
       "      <td>1783</td>\n",
       "      <td>Adam Davis</td>\n",
       "    </tr>\n",
       "    <tr>\n",
       "      <th>2</th>\n",
       "      <td>2</td>\n",
       "      <td>2016-01-12T18:45:51.287</td>\n",
       "      <td>28</td>\n",
       "      <td>3212</td>\n",
       "      <td>&lt;p&gt;I would like to buy a 3D printer, but I'm c...</td>\n",
       "      <td>20</td>\n",
       "      <td>2019-06-10T23:18:34.190</td>\n",
       "      <td>Is 3D printing safe for your health?</td>\n",
       "      <td>5</td>\n",
       "      <td>1</td>\n",
       "      <td>3</td>\n",
       "      <td>12</td>\n",
       "      <td>None</td>\n",
       "      <td>2245</td>\n",
       "      <td>kenorb</td>\n",
       "    </tr>\n",
       "    <tr>\n",
       "      <th>3</th>\n",
       "      <td>6</td>\n",
       "      <td>2016-01-12T18:57:13.350</td>\n",
       "      <td>10</td>\n",
       "      <td>539</td>\n",
       "      <td>&lt;p&gt;My MakerBot printer supports only two filam...</td>\n",
       "      <td>20</td>\n",
       "      <td>2018-09-16T12:35:19.097</td>\n",
       "      <td>Multi-color printing with desktop 3D printer?</td>\n",
       "      <td>5</td>\n",
       "      <td>0</td>\n",
       "      <td>1</td>\n",
       "      <td>27</td>\n",
       "      <td>None</td>\n",
       "      <td>2245</td>\n",
       "      <td>kenorb</td>\n",
       "    </tr>\n",
       "    <tr>\n",
       "      <th>4</th>\n",
       "      <td>11</td>\n",
       "      <td>2016-01-12T19:07:53.343</td>\n",
       "      <td>46</td>\n",
       "      <td>69868</td>\n",
       "      <td>&lt;p&gt;The surfaces of my printed parts using PLA ...</td>\n",
       "      <td>20</td>\n",
       "      <td>2019-05-14T19:08:09.893</td>\n",
       "      <td>How do I give 3D-printed parts in PLA a shiny ...</td>\n",
       "      <td>9</td>\n",
       "      <td>0</td>\n",
       "      <td>20</td>\n",
       "      <td>34</td>\n",
       "      <td>None</td>\n",
       "      <td>2245</td>\n",
       "      <td>kenorb</td>\n",
       "    </tr>\n",
       "  </tbody>\n",
       "</table>\n",
       "</div>"
      ],
      "text/plain": [
       "   Id             CreationDate Score ViewCount  \\\n",
       "0   1  2016-01-12T18:45:19.963    10       303   \n",
       "1   4  2016-01-12T18:50:55.973    17       307   \n",
       "2   2  2016-01-12T18:45:51.287    28      3212   \n",
       "3   6  2016-01-12T18:57:13.350    10       539   \n",
       "4  11  2016-01-12T19:07:53.343    46     69868   \n",
       "\n",
       "                                                Body OwnerUserId  \\\n",
       "0  <p>When I've printed an object I've had to cho...          16   \n",
       "1  <p>Plastic is used in 3D FDM/FFF printing part...          16   \n",
       "2  <p>I would like to buy a 3D printer, but I'm c...          20   \n",
       "3  <p>My MakerBot printer supports only two filam...          20   \n",
       "4  <p>The surfaces of my printed parts using PLA ...          20   \n",
       "\n",
       "          LastActivityDate                                              Title  \\\n",
       "0  2017-10-31T02:31:08.560  How to obtain high resolution prints in a shor...   \n",
       "1  2016-06-10T13:32:20.493  Are there any metals that exhibit a large glas...   \n",
       "2  2019-06-10T23:18:34.190               Is 3D printing safe for your health?   \n",
       "3  2018-09-16T12:35:19.097      Multi-color printing with desktop 3D printer?   \n",
       "4  2019-05-14T19:08:09.893  How do I give 3D-printed parts in PLA a shiny ...   \n",
       "\n",
       "  AnswerCount CommentCount FavoriteCount AcceptedAnswerId ClosedDate  \\\n",
       "0           2            6          None               51       None   \n",
       "1           4            0             2             1289       None   \n",
       "2           5            1             3               12       None   \n",
       "3           5            0             1               27       None   \n",
       "4           9            0            20               34       None   \n",
       "\n",
       "  user_reputation    username  \n",
       "0            1783  Adam Davis  \n",
       "1            1783  Adam Davis  \n",
       "2            2245      kenorb  \n",
       "3            2245      kenorb  \n",
       "4            2245      kenorb  "
      ]
     },
     "execution_count": 21,
     "metadata": {},
     "output_type": "execute_result"
    }
   ],
   "source": [
    "question_df.head()"
   ]
  },
  {
   "cell_type": "code",
   "execution_count": 17,
   "metadata": {
    "scrolled": true
   },
   "outputs": [
    {
     "data": {
      "text/html": [
       "<div>\n",
       "<style scoped>\n",
       "    .dataframe tbody tr th:only-of-type {\n",
       "        vertical-align: middle;\n",
       "    }\n",
       "\n",
       "    .dataframe tbody tr th {\n",
       "        vertical-align: top;\n",
       "    }\n",
       "\n",
       "    .dataframe thead th {\n",
       "        text-align: right;\n",
       "    }\n",
       "</style>\n",
       "<table border=\"1\" class=\"dataframe\">\n",
       "  <thead>\n",
       "    <tr style=\"text-align: right;\">\n",
       "      <th></th>\n",
       "      <th>Id</th>\n",
       "      <th>CreationDate</th>\n",
       "      <th>Score</th>\n",
       "      <th>Body</th>\n",
       "      <th>OwnerUserId</th>\n",
       "      <th>LastActivityDate</th>\n",
       "      <th>CommentCount</th>\n",
       "      <th>ParentId</th>\n",
       "      <th>user_reputation</th>\n",
       "      <th>username</th>\n",
       "    </tr>\n",
       "  </thead>\n",
       "  <tbody>\n",
       "    <tr>\n",
       "      <th>0</th>\n",
       "      <td>9</td>\n",
       "      <td>2016-01-12T18:58:04.410</td>\n",
       "      <td>17</td>\n",
       "      <td>&lt;p&gt;Almost all 3D printers have issues that cou...</td>\n",
       "      <td>16</td>\n",
       "      <td>2016-01-12T18:58:04.410</td>\n",
       "      <td>2</td>\n",
       "      <td>2</td>\n",
       "      <td>1783</td>\n",
       "      <td>Adam Davis</td>\n",
       "    </tr>\n",
       "    <tr>\n",
       "      <th>1</th>\n",
       "      <td>39</td>\n",
       "      <td>2016-01-12T20:00:22.177</td>\n",
       "      <td>15</td>\n",
       "      <td>&lt;p&gt;The files used to print these objects are d...</td>\n",
       "      <td>16</td>\n",
       "      <td>2016-01-12T20:00:22.177</td>\n",
       "      <td>0</td>\n",
       "      <td>33</td>\n",
       "      <td>1783</td>\n",
       "      <td>Adam Davis</td>\n",
       "    </tr>\n",
       "    <tr>\n",
       "      <th>2</th>\n",
       "      <td>43</td>\n",
       "      <td>2016-01-12T20:05:22.530</td>\n",
       "      <td>6</td>\n",
       "      <td>&lt;p&gt;In theory, making filament is easy.  You ta...</td>\n",
       "      <td>16</td>\n",
       "      <td>2019-01-18T15:13:48.737</td>\n",
       "      <td>2</td>\n",
       "      <td>38</td>\n",
       "      <td>1783</td>\n",
       "      <td>Adam Davis</td>\n",
       "    </tr>\n",
       "    <tr>\n",
       "      <th>3</th>\n",
       "      <td>53</td>\n",
       "      <td>2016-01-12T20:24:10.350</td>\n",
       "      <td>4</td>\n",
       "      <td>&lt;blockquote&gt;\\n  &lt;p&gt;parts ... I don't want to ....</td>\n",
       "      <td>16</td>\n",
       "      <td>2016-01-13T12:37:29.580</td>\n",
       "      <td>0</td>\n",
       "      <td>14</td>\n",
       "      <td>1783</td>\n",
       "      <td>Adam Davis</td>\n",
       "    </tr>\n",
       "    <tr>\n",
       "      <th>4</th>\n",
       "      <td>57</td>\n",
       "      <td>2016-01-12T20:30:29.773</td>\n",
       "      <td>6</td>\n",
       "      <td>&lt;p&gt;Using negative pressure ventilation and a s...</td>\n",
       "      <td>16</td>\n",
       "      <td>2016-01-12T20:30:29.773</td>\n",
       "      <td>0</td>\n",
       "      <td>49</td>\n",
       "      <td>1783</td>\n",
       "      <td>Adam Davis</td>\n",
       "    </tr>\n",
       "  </tbody>\n",
       "</table>\n",
       "</div>"
      ],
      "text/plain": [
       "   Id             CreationDate Score  \\\n",
       "0   9  2016-01-12T18:58:04.410    17   \n",
       "1  39  2016-01-12T20:00:22.177    15   \n",
       "2  43  2016-01-12T20:05:22.530     6   \n",
       "3  53  2016-01-12T20:24:10.350     4   \n",
       "4  57  2016-01-12T20:30:29.773     6   \n",
       "\n",
       "                                                Body OwnerUserId  \\\n",
       "0  <p>Almost all 3D printers have issues that cou...          16   \n",
       "1  <p>The files used to print these objects are d...          16   \n",
       "2  <p>In theory, making filament is easy.  You ta...          16   \n",
       "3  <blockquote>\\n  <p>parts ... I don't want to ....          16   \n",
       "4  <p>Using negative pressure ventilation and a s...          16   \n",
       "\n",
       "          LastActivityDate CommentCount ParentId user_reputation    username  \n",
       "0  2016-01-12T18:58:04.410            2        2            1783  Adam Davis  \n",
       "1  2016-01-12T20:00:22.177            0       33            1783  Adam Davis  \n",
       "2  2019-01-18T15:13:48.737            2       38            1783  Adam Davis  \n",
       "3  2016-01-13T12:37:29.580            0       14            1783  Adam Davis  \n",
       "4  2016-01-12T20:30:29.773            0       49            1783  Adam Davis  "
      ]
     },
     "execution_count": 17,
     "metadata": {},
     "output_type": "execute_result"
    }
   ],
   "source": [
    "answer_df.head()"
   ]
  },
  {
   "cell_type": "markdown",
   "metadata": {},
   "source": [
    "The corresponding files a saved here"
   ]
  },
  {
   "cell_type": "code",
   "execution_count": 20,
   "metadata": {},
   "outputs": [
    {
     "name": "stdout",
     "output_type": "stream",
     "text": [
      "answers.tsv   questions.tsv\r\n"
     ]
    }
   ],
   "source": [
    "!ls $three_d_printing_output"
   ]
  }
 ],
 "metadata": {
  "kernelspec": {
   "display_name": "Python 3",
   "language": "python",
   "name": "python3"
  },
  "language_info": {
   "codemirror_mode": {
    "name": "ipython",
    "version": 3
   },
   "file_extension": ".py",
   "mimetype": "text/x-python",
   "name": "python",
   "nbconvert_exporter": "python",
   "pygments_lexer": "ipython3",
   "version": "3.7.3"
  }
 },
 "nbformat": 4,
 "nbformat_minor": 2
}
