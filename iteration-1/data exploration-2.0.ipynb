{
 "cells": [
  {
   "cell_type": "code",
   "execution_count": 13,
   "metadata": {
    "collapsed": true
   },
   "outputs": [],
   "source": [
    "import os\n",
    "import sys\n",
    "os.getcwd()\n",
    "import pandas as pd\n",
    "import numpy as np\n",
    "import re\n",
    "import gc\n",
    "gc.collect()\n",
    "from pathlib import Path\n",
    "import seaborn as sns\n",
    "import matplotlib.pyplot as plt\n",
    "%matplotlib inline\n",
    "from sklearn.feature_extraction.text import TfidfVectorizer\n",
    "from sklearn.decomposition import TruncatedSVD"
   ]
  },
  {
   "cell_type": "code",
   "execution_count": 6,
   "metadata": {},
   "outputs": [
    {
     "name": "stdout",
     "output_type": "stream",
     "text": [
      "C:/Users/admin/Documents/Nitin/mycodes/kaggle_google_quest_qna/data\\sample_submission.csv\n",
      "C:/Users/admin/Documents/Nitin/mycodes/kaggle_google_quest_qna/data\\test.csv\n",
      "C:/Users/admin/Documents/Nitin/mycodes/kaggle_google_quest_qna/data\\train.csv\n"
     ]
    }
   ],
   "source": [
    "import os\n",
    "for dirname, _, filenames in os.walk('C:/Users/admin/Documents/Nitin/mycodes/kaggle_google_quest_qna/data'):\n",
    "    for filename in filenames:\n",
    "        print(os.path.join(dirname, filename))"
   ]
  },
  {
   "cell_type": "code",
   "execution_count": 7,
   "metadata": {},
   "outputs": [
    {
     "name": "stdout",
     "output_type": "stream",
     "text": [
      "Wall time: 196 ms\n"
     ]
    }
   ],
   "source": [
    "%%time\n",
    "datadir = Path(dirname)\n",
    "\n",
    "# Read in the data CSV files\n",
    "train = pd.read_csv(datadir/'train.csv')\n",
    "test = pd.read_csv(datadir/'test.csv')\n",
    "sample_submission = pd.read_csv(datadir/'sample_submission.csv')"
   ]
  },
  {
   "cell_type": "code",
   "execution_count": null,
   "metadata": {
    "collapsed": true
   },
   "outputs": [],
   "source": [
    "# Main contents: [question_title, question_body, answer]\n",
    "#  Extra metadata: [host, url, category, question_user_page, question_user_name, answer_user_page, answer_user_name]"
   ]
  },
  {
   "cell_type": "code",
   "execution_count": 8,
   "metadata": {},
   "outputs": [
    {
     "name": "stdout",
     "output_type": "stream",
     "text": [
      "total targets 30\n",
      "question targets 21\n",
      "Answer targets 9\n"
     ]
    }
   ],
   "source": [
    "sample_submission.columns\n",
    "print('total targets', len([a for a in sample_submission.columns if 'question_' in a or 'answer_' in a]))\n",
    "print('question targets', len([a for a in sample_submission.columns if 'question_' in a]))\n",
    "print('Answer targets', len([a for a in sample_submission.columns if 'answer_' in a]))"
   ]
  },
  {
   "cell_type": "code",
   "execution_count": 9,
   "metadata": {},
   "outputs": [
    {
     "name": "stdout",
     "output_type": "stream",
     "text": [
      "URL           :  http://photo.stackexchange.com/questions/9169/what-am-i-losing-when-using-extension-tubes-instead-of-a-macro-lens\n",
      "question_title:  What am I losing when using extension tubes instead of a macro lens?\n",
      "question_body :  After playing around with macro photography on-the-cheap (read: reversed lens, rev. lens mounted on a straight lens, passive extension tubes), I would like to get further with this. The problems with the techniques I used is that focus is manual and aperture control is problematic at best. This limited my setup to still subjects (read: dead insects) Now, as spring is approaching, I want to be able to shoot live insects. I believe that for this, autofocus and settable aperture will be of great help.\n",
      "\n",
      "So, one obvious but expensive option is a macro lens (say, EF 100mm Macro) However, I am not really interested in yet another prime lens. An alternative is the electrical extension tubes.\n",
      "\n",
      "Except for maximum focusing distance, what am I losing when using tubes (coupled with a fine lens, say EF70-200/2.8) instead of a macro lens?\n",
      "\n"
     ]
    }
   ],
   "source": [
    "train0 = train.iloc[0]\n",
    "\n",
    "print('URL           : ', train0['url'])\n",
    "print('question_title: ', train0['question_title'])\n",
    "print('question_body : ', train0['question_body'])"
   ]
  },
  {
   "cell_type": "code",
   "execution_count": 11,
   "metadata": {},
   "outputs": [],
   "source": [
    "train['question_title_num_chars'] = train['question_title'].apply(lambda x: len(str(x)))\n",
    "train['question_title_num_words'] = train['question_title'].apply(lambda x: len(str(x).split()))\n",
    "train['question_body_num_chars'] = train['question_body'].apply(lambda x: len(str(x)))\n",
    "train['question_body_num_words'] = train['question_body'].apply(lambda x: len(str(x).split()))\n",
    "train['answer_num_chars'] = train['answer'].apply(lambda x: len(str(x)))\n",
    "train['answer_num_words'] = train['answer'].apply(lambda x: len(str(x).split()))\n",
    "\n",
    "test['question_title_num_chars'] = test['question_title'].apply(lambda x: len(str(x)))\n",
    "test['question_title_num_words'] = test['question_title'].apply(lambda x: len(str(x).split()))\n",
    "test['question_body_num_chars'] =  test['question_body'].apply(lambda x: len(str(x)))\n",
    "test['question_body_num_words'] =  test['question_body'].apply(lambda x: len(str(x).split()))\n",
    "test['answer_num_chars'] =         test['answer'].apply(lambda x: len(str(x)))\n",
    "test['answer_num_words'] =         test['answer'].apply(lambda x: len(str(x).split()))\n"
   ]
  },
  {
   "cell_type": "code",
   "execution_count": 17,
   "metadata": {},
   "outputs": [
    {
     "name": "stdout",
     "output_type": "stream",
     "text": [
      "(6079, 51565)\n",
      "(476, 51565)\n",
      "(6079, 128)\n",
      "(476, 128)\n"
     ]
    }
   ],
   "source": [
    "tfidf = TfidfVectorizer(ngram_range=(1, 3))\n",
    "tsvd = TruncatedSVD(n_components=128, n_iter=5)\n",
    "\n",
    "tfquestion_title = tfidf.fit_transform(train['question_title'].values)\n",
    "tfquestion_title_test = tfidf.transform(test['question_title'].values)\n",
    "svdquestion_title = tsvd.fit_transform(tfquestion_title)\n",
    "svdquestion_title_test = tsvd.transform(tfquestion_title_test)\n",
    "\n",
    "print(tfquestion_title.shape)\n",
    "print(tfquestion_title_test.shape)\n",
    "print(svdquestion_title.shape)\n",
    "print(svdquestion_title_test.shape)\n"
   ]
  }
 ],
 "metadata": {
  "kernelspec": {
   "display_name": "Python 3",
   "language": "python",
   "name": "python3"
  },
  "language_info": {
   "codemirror_mode": {
    "name": "ipython",
    "version": 3
   },
   "file_extension": ".py",
   "mimetype": "text/x-python",
   "name": "python",
   "nbconvert_exporter": "python",
   "pygments_lexer": "ipython3",
   "version": "3.6.3"
  }
 },
 "nbformat": 4,
 "nbformat_minor": 2
}
