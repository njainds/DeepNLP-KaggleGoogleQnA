{
 "cells": [
  {
   "cell_type": "code",
   "execution_count": 32,
   "metadata": {
    "collapsed": true
   },
   "outputs": [],
   "source": [
    "from pathlib import Path\n",
    "import os\n",
    "import requests\n",
    "import xml.etree.cElementTree as et\n",
    "from bs4 import BeautifulSoup\n",
    "from tqdm import tqdm\n",
    "import wget\n",
    "from multiprocessing import Pool, cpu_count"
   ]
  },
  {
   "cell_type": "code",
   "execution_count": 4,
   "metadata": {
    "collapsed": true
   },
   "outputs": [],
   "source": [
    "main_url = \"https://archive.org/download/stackexchange/\"\n",
    "path_to_sxdump = Path(os.getcwd()) / \"input/sx_dump\"\n",
    "out_dir = path_to_sxdump / \"sx_parsed\"\n",
    "#os.makedirs(path_to_sxdump)\n",
    "os.makedirs(out_dir)"
   ]
  },
  {
   "cell_type": "code",
   "execution_count": 14,
   "metadata": {
    "collapsed": true
   },
   "outputs": [],
   "source": [
    "#get urls\n",
    "r = requests.get(main_url)\n",
    "soup = BeautifulSoup(r.content, \"html.parser\")\n",
    "listing_table = soup.find(\"table\", class_=\"directory-listing-table\")\n",
    "links = listing_table.findAll(\"a\", href=True)\n",
    "link_list = \"\\n\".join([main_url + l[\"href\"] for l in links[1:]])\n",
    "with open(path_to_sxdump / \"link_list.txt\", \"w\") as f:\n",
    "    f.write(link_list)"
   ]
  },
  {
   "cell_type": "code",
   "execution_count": 25,
   "metadata": {},
   "outputs": [
    {
     "name": "stderr",
     "output_type": "stream",
     "text": [
      "\r",
      "  0%|                                                                                          | 0/714 [00:00<?, ?it/s]"
     ]
    },
    {
     "name": "stdout",
     "output_type": "stream",
     "text": [
      "downloading filename 3dprinting.meta.stackexchange.com.7z....\n",
      "https://archive.org/download/stackexchange/3dprinting.meta.stackexchange.com.7z\n",
      " 97% [..........................................................................  ] 548864 / 561755"
     ]
    },
    {
     "name": "stderr",
     "output_type": "stream",
     "text": [
      "\r",
      "  0%|                                                                                | 1/714 [00:06<1:21:44,  6.88s/it]"
     ]
    },
    {
     "name": "stdout",
     "output_type": "stream",
     "text": [
      "100% [............................................................................] 561755 / 5617557z e C:\\Users\\admin\\Documents\\Nitin\\mycodes\\kaggle_google_quest_qna\\lmtraining\\input\\sx_dump/3dprinting.meta.stackexchange.com.7z -oC:\\Users\\admin\\Documents\\Nitin\\mycodes\\kaggle_google_quest_qna\\lmtraining\\input\\sx_dump/3dprinting.meta.stackexchange.com\n",
      "downloading filename 3dprinting.stackexchange.com.7z....\n",
      "https://archive.org/download/stackexchange/3dprinting.stackexchange.com.7z\n",
      " 99% [....................................................................... ] 10035200 / 10101505"
     ]
    },
    {
     "name": "stderr",
     "output_type": "stream",
     "text": [
      "\r",
      "  0%|▎                                                                               | 3/714 [01:38<3:40:25, 18.60s/it]"
     ]
    },
    {
     "name": "stdout",
     "output_type": "stream",
     "text": [
      "100% [........................................................................] 10101505 / 101015057z e C:\\Users\\admin\\Documents\\Nitin\\mycodes\\kaggle_google_quest_qna\\lmtraining\\input\\sx_dump/3dprinting.stackexchange.com.7z -oC:\\Users\\admin\\Documents\\Nitin\\mycodes\\kaggle_google_quest_qna\\lmtraining\\input\\sx_dump/3dprinting.stackexchange.com\n",
      "downloading filename Sites.xml....\n",
      "https://archive.org/download/stackexchange/Sites.xml\n",
      " 78% [...........................................................                 ] 270336 / 345209"
     ]
    },
    {
     "name": "stderr",
     "output_type": "stream",
     "text": [
      "\r",
      "  1%|▌                                                                               | 5/714 [01:42<2:40:41, 13.60s/it]"
     ]
    },
    {
     "name": "stdout",
     "output_type": "stream",
     "text": [
      "100% [............................................................................] 345209 / 3452097z e C:\\Users\\admin\\Documents\\Nitin\\mycodes\\kaggle_google_quest_qna\\lmtraining\\input\\sx_dump/Sites.xml -oC:\\Users\\admin\\Documents\\Nitin\\mycodes\\kaggle_google_quest_qna\\lmtraining\\input\\sx_dump/Sites.xml\n",
      "downloading filename academia.meta.stackexchange.com.7z....\n",
      "https://archive.org/download/stackexchange/academia.meta.stackexchange.com.7z\n",
      " 98% [........................................................................  ] 4300800 / 4362555"
     ]
    },
    {
     "name": "stderr",
     "output_type": "stream",
     "text": [
      "\r",
      "  1%|▋                                                                               | 6/714 [02:20<4:07:14, 20.95s/it]"
     ]
    },
    {
     "name": "stdout",
     "output_type": "stream",
     "text": [
      "100% [..........................................................................] 4362555 / 43625557z e C:\\Users\\admin\\Documents\\Nitin\\mycodes\\kaggle_google_quest_qna\\lmtraining\\input\\sx_dump/academia.meta.stackexchange.com.7z -oC:\\Users\\admin\\Documents\\Nitin\\mycodes\\kaggle_google_quest_qna\\lmtraining\\input\\sx_dump/academia.meta.stackexchange.com\n",
      "downloading filename academia.stackexchange.com.7z....\n",
      "https://archive.org/download/stackexchange/academia.stackexchange.com.7z\n",
      " 99% [..................................................................... ] 119939072 / 119997812"
     ]
    },
    {
     "name": "stderr",
     "output_type": "stream",
     "text": [
      "\r",
      "  1%|▊                                                                             | 8/714 [14:20<24:02:55, 122.63s/it]"
     ]
    },
    {
     "name": "stdout",
     "output_type": "stream",
     "text": [
      "100% [......................................................................] 119997812 / 1199978127z e C:\\Users\\admin\\Documents\\Nitin\\mycodes\\kaggle_google_quest_qna\\lmtraining\\input\\sx_dump/academia.stackexchange.com.7z -oC:\\Users\\admin\\Documents\\Nitin\\mycodes\\kaggle_google_quest_qna\\lmtraining\\input\\sx_dump/academia.stackexchange.com\n",
      "downloading filename ai.meta.stackexchange.com.7z....\n",
      "https://archive.org/download/stackexchange/ai.meta.stackexchange.com.7z\n",
      " 92% [......................................................................      ] 729088 / 785821"
     ]
    },
    {
     "name": "stderr",
     "output_type": "stream",
     "text": [
      "\r",
      "  1%|█                                                                             | 10/714 [14:29<17:02:25, 87.14s/it]"
     ]
    },
    {
     "name": "stdout",
     "output_type": "stream",
     "text": [
      "100% [............................................................................] 785821 / 7858217z e C:\\Users\\admin\\Documents\\Nitin\\mycodes\\kaggle_google_quest_qna\\lmtraining\\input\\sx_dump/ai.meta.stackexchange.com.7z -oC:\\Users\\admin\\Documents\\Nitin\\mycodes\\kaggle_google_quest_qna\\lmtraining\\input\\sx_dump/ai.meta.stackexchange.com\n",
      "downloading filename ai.stackexchange.com.7z....\n",
      "https://archive.org/download/stackexchange/ai.stackexchange.com.7z\n",
      " 99% [....................................................................... ] 17358848 / 17384449"
     ]
    },
    {
     "name": "stderr",
     "output_type": "stream",
     "text": [
      "\r",
      "  2%|█▎                                                                            | 12/714 [15:52<14:19:28, 73.46s/it]"
     ]
    },
    {
     "name": "stdout",
     "output_type": "stream",
     "text": [
      "100% [........................................................................] 17384449 / 173844497z e C:\\Users\\admin\\Documents\\Nitin\\mycodes\\kaggle_google_quest_qna\\lmtraining\\input\\sx_dump/ai.stackexchange.com.7z -oC:\\Users\\admin\\Documents\\Nitin\\mycodes\\kaggle_google_quest_qna\\lmtraining\\input\\sx_dump/ai.stackexchange.com\n",
      "downloading filename android.meta.stackexchange.com.7z....\n",
      "https://archive.org/download/stackexchange/android.meta.stackexchange.com.7z\n",
      " 99% [......................................................................... ] 2899968 / 2902395"
     ]
    },
    {
     "name": "stderr",
     "output_type": "stream",
     "text": [
      "\r",
      "  2%|█▌                                                                            | 14/714 [16:06<10:25:27, 53.61s/it]"
     ]
    },
    {
     "name": "stdout",
     "output_type": "stream",
     "text": [
      "100% [..........................................................................] 2902395 / 29023957z e C:\\Users\\admin\\Documents\\Nitin\\mycodes\\kaggle_google_quest_qna\\lmtraining\\input\\sx_dump/android.meta.stackexchange.com.7z -oC:\\Users\\admin\\Documents\\Nitin\\mycodes\\kaggle_google_quest_qna\\lmtraining\\input\\sx_dump/android.meta.stackexchange.com\n",
      "downloading filename android.stackexchange.com.7z....\n",
      "https://archive.org/download/stackexchange/android.stackexchange.com.7z\n",
      " 99% [..................................................................... ] 101031936 / 101060506"
     ]
    },
    {
     "name": "stderr",
     "output_type": "stream",
     "text": [
      "\r",
      "  2%|█▋                                                                           | 16/714 [24:54<22:37:48, 116.72s/it]"
     ]
    },
    {
     "name": "stdout",
     "output_type": "stream",
     "text": [
      "100% [......................................................................] 101060506 / 1010605067z e C:\\Users\\admin\\Documents\\Nitin\\mycodes\\kaggle_google_quest_qna\\lmtraining\\input\\sx_dump/android.stackexchange.com.7z -oC:\\Users\\admin\\Documents\\Nitin\\mycodes\\kaggle_google_quest_qna\\lmtraining\\input\\sx_dump/android.stackexchange.com\n",
      "downloading filename anime.meta.stackexchange.com.7z....\n",
      "https://archive.org/download/stackexchange/anime.meta.stackexchange.com.7z\n",
      " 98% [........................................................................  ] 3776512 / 3830897"
     ]
    },
    {
     "name": "stderr",
     "output_type": "stream",
     "text": [
      "\r",
      "  3%|█▉                                                                            | 18/714 [25:16<16:25:43, 84.98s/it]"
     ]
    },
    {
     "name": "stdout",
     "output_type": "stream",
     "text": [
      "100% [..........................................................................] 3830897 / 38308977z e C:\\Users\\admin\\Documents\\Nitin\\mycodes\\kaggle_google_quest_qna\\lmtraining\\input\\sx_dump/anime.meta.stackexchange.com.7z -oC:\\Users\\admin\\Documents\\Nitin\\mycodes\\kaggle_google_quest_qna\\lmtraining\\input\\sx_dump/anime.meta.stackexchange.com\n",
      "downloading filename anime.stackexchange.com.7z....\n",
      "https://archive.org/download/stackexchange/anime.stackexchange.com.7z\n",
      " 99% [....................................................................... ] 29597696 / 29624601"
     ]
    },
    {
     "name": "stderr",
     "output_type": "stream",
     "text": [
      "\r",
      "  3%|██▏                                                                           | 20/714 [27:48<15:51:57, 82.30s/it]"
     ]
    },
    {
     "name": "stdout",
     "output_type": "stream",
     "text": [
      "100% [........................................................................] 29624601 / 296246017z e C:\\Users\\admin\\Documents\\Nitin\\mycodes\\kaggle_google_quest_qna\\lmtraining\\input\\sx_dump/anime.stackexchange.com.7z -oC:\\Users\\admin\\Documents\\Nitin\\mycodes\\kaggle_google_quest_qna\\lmtraining\\input\\sx_dump/anime.stackexchange.com\n",
      "downloading filename apple.meta.stackexchange.com.7z....\n",
      "https://archive.org/download/stackexchange/apple.meta.stackexchange.com.7z\n",
      " 98% [........................................................................  ] 4071424 / 4142698"
     ]
    },
    {
     "name": "stderr",
     "output_type": "stream",
     "text": [
      "\r",
      "  3%|██▍                                                                           | 22/714 [28:16<11:53:01, 61.82s/it]"
     ]
    },
    {
     "name": "stdout",
     "output_type": "stream",
     "text": [
      "100% [..........................................................................] 4142698 / 41426987z e C:\\Users\\admin\\Documents\\Nitin\\mycodes\\kaggle_google_quest_qna\\lmtraining\\input\\sx_dump/apple.meta.stackexchange.com.7z -oC:\\Users\\admin\\Documents\\Nitin\\mycodes\\kaggle_google_quest_qna\\lmtraining\\input\\sx_dump/apple.meta.stackexchange.com\n",
      "downloading filename apple.stackexchange.com.7z....\n",
      "https://archive.org/download/stackexchange/apple.stackexchange.com.7z\n",
      " 99% [..................................................................... ] 215769088 / 215793233"
     ]
    },
    {
     "name": "stderr",
     "output_type": "stream",
     "text": [
      "\r",
      "  3%|██▌                                                                          | 24/714 [48:57<43:58:41, 229.45s/it]"
     ]
    },
    {
     "name": "stdout",
     "output_type": "stream",
     "text": [
      "100% [......................................................................] 215793233 / 2157932337z e C:\\Users\\admin\\Documents\\Nitin\\mycodes\\kaggle_google_quest_qna\\lmtraining\\input\\sx_dump/apple.stackexchange.com.7z -oC:\\Users\\admin\\Documents\\Nitin\\mycodes\\kaggle_google_quest_qna\\lmtraining\\input\\sx_dump/apple.stackexchange.com\n",
      "downloading filename arduino.meta.stackexchange.com.7z....\n",
      "https://archive.org/download/stackexchange/arduino.meta.stackexchange.com.7z\n",
      " 96% [.........................................................................   ] 860160 / 891532"
     ]
    },
    {
     "name": "stderr",
     "output_type": "stream",
     "text": [
      "\r",
      "  4%|██▊                                                                          | 26/714 [49:04<30:53:30, 161.64s/it]"
     ]
    },
    {
     "name": "stdout",
     "output_type": "stream",
     "text": [
      "100% [............................................................................] 891532 / 8915327z e C:\\Users\\admin\\Documents\\Nitin\\mycodes\\kaggle_google_quest_qna\\lmtraining\\input\\sx_dump/arduino.meta.stackexchange.com.7z -oC:\\Users\\admin\\Documents\\Nitin\\mycodes\\kaggle_google_quest_qna\\lmtraining\\input\\sx_dump/arduino.meta.stackexchange.com\n",
      "downloading filename arduino.stackexchange.com.7z....\n",
      "https://archive.org/download/stackexchange/arduino.stackexchange.com.7z\n",
      " 99% [....................................................................... ] 57942016 / 57988627"
     ]
    },
    {
     "name": "stderr",
     "output_type": "stream",
     "text": [
      "\r",
      "  4%|███                                                                          | 28/714 [53:41<29:28:35, 154.69s/it]"
     ]
    },
    {
     "name": "stdout",
     "output_type": "stream",
     "text": [
      "100% [........................................................................] 57988627 / 579886277z e C:\\Users\\admin\\Documents\\Nitin\\mycodes\\kaggle_google_quest_qna\\lmtraining\\input\\sx_dump/arduino.stackexchange.com.7z -oC:\\Users\\admin\\Documents\\Nitin\\mycodes\\kaggle_google_quest_qna\\lmtraining\\input\\sx_dump/arduino.stackexchange.com\n",
      "downloading filename askubuntu.com.7z....\n",
      "https://archive.org/download/stackexchange/askubuntu.com.7z\n",
      "  3% [..                                                                    ]  29024256 / 786675780"
     ]
    },
    {
     "ename": "KeyboardInterrupt",
     "evalue": "",
     "output_type": "error",
     "traceback": [
      "\u001b[1;31m---------------------------------------------------------------------------\u001b[0m",
      "\u001b[1;31mKeyboardInterrupt\u001b[0m                         Traceback (most recent call last)",
      "\u001b[1;32m<ipython-input-25-7cb69b2d3ca9>\u001b[0m in \u001b[0;36m<module>\u001b[1;34m\u001b[0m\n\u001b[0;32m      5\u001b[0m         \u001b[0murl\u001b[0m  \u001b[1;33m=\u001b[0m \u001b[0mmain_url\u001b[0m \u001b[1;33m+\u001b[0m \u001b[0mfilename\u001b[0m\u001b[1;33m\u001b[0m\u001b[0m\n\u001b[0;32m      6\u001b[0m         \u001b[0mprint\u001b[0m\u001b[1;33m(\u001b[0m\u001b[0murl\u001b[0m\u001b[1;33m)\u001b[0m\u001b[1;33m\u001b[0m\u001b[0m\n\u001b[1;32m----> 7\u001b[1;33m         \u001b[0mfilename\u001b[0m \u001b[1;33m=\u001b[0m \u001b[0mwget\u001b[0m\u001b[1;33m.\u001b[0m\u001b[0mdownload\u001b[0m\u001b[1;33m(\u001b[0m\u001b[0murl\u001b[0m\u001b[1;33m,\u001b[0m\u001b[0mout\u001b[0m \u001b[1;33m=\u001b[0m \u001b[0mstr\u001b[0m\u001b[1;33m(\u001b[0m\u001b[0mpath_to_sxdump\u001b[0m\u001b[1;33m)\u001b[0m\u001b[1;33m)\u001b[0m\u001b[1;33m\u001b[0m\u001b[0m\n\u001b[0m\u001b[0;32m      8\u001b[0m         \u001b[0mprint\u001b[0m\u001b[1;33m(\u001b[0m\u001b[1;34mf\"7z e {filename} -o{filename.rstrip('.7z')}\"\u001b[0m\u001b[1;33m)\u001b[0m\u001b[1;33m\u001b[0m\u001b[0m\n\u001b[0;32m      9\u001b[0m         \u001b[0mos\u001b[0m\u001b[1;33m.\u001b[0m\u001b[0msystem\u001b[0m\u001b[1;33m(\u001b[0m\u001b[1;34mf\"7z e {filename} -o{filename.rstrip('.7z')}\"\u001b[0m\u001b[1;33m)\u001b[0m\u001b[1;33m\u001b[0m\u001b[0m\n",
      "\u001b[1;32m~\\Anaconda3\\lib\\site-packages\\wget.py\u001b[0m in \u001b[0;36mdownload\u001b[1;34m(url, out, bar)\u001b[0m\n\u001b[0;32m    524\u001b[0m     \u001b[1;32melse\u001b[0m\u001b[1;33m:\u001b[0m\u001b[1;33m\u001b[0m\u001b[0m\n\u001b[0;32m    525\u001b[0m         \u001b[0mbinurl\u001b[0m \u001b[1;33m=\u001b[0m \u001b[0murl\u001b[0m\u001b[1;33m\u001b[0m\u001b[0m\n\u001b[1;32m--> 526\u001b[1;33m     \u001b[1;33m(\u001b[0m\u001b[0mtmpfile\u001b[0m\u001b[1;33m,\u001b[0m \u001b[0mheaders\u001b[0m\u001b[1;33m)\u001b[0m \u001b[1;33m=\u001b[0m \u001b[0mulib\u001b[0m\u001b[1;33m.\u001b[0m\u001b[0murlretrieve\u001b[0m\u001b[1;33m(\u001b[0m\u001b[0mbinurl\u001b[0m\u001b[1;33m,\u001b[0m \u001b[0mtmpfile\u001b[0m\u001b[1;33m,\u001b[0m \u001b[0mcallback\u001b[0m\u001b[1;33m)\u001b[0m\u001b[1;33m\u001b[0m\u001b[0m\n\u001b[0m\u001b[0;32m    527\u001b[0m     \u001b[0mfilename\u001b[0m \u001b[1;33m=\u001b[0m \u001b[0mdetect_filename\u001b[0m\u001b[1;33m(\u001b[0m\u001b[0murl\u001b[0m\u001b[1;33m,\u001b[0m \u001b[0mout\u001b[0m\u001b[1;33m,\u001b[0m \u001b[0mheaders\u001b[0m\u001b[1;33m)\u001b[0m\u001b[1;33m\u001b[0m\u001b[0m\n\u001b[0;32m    528\u001b[0m     \u001b[1;32mif\u001b[0m \u001b[0moutdir\u001b[0m\u001b[1;33m:\u001b[0m\u001b[1;33m\u001b[0m\u001b[0m\n",
      "\u001b[1;32m~\\Anaconda3\\lib\\urllib\\request.py\u001b[0m in \u001b[0;36murlretrieve\u001b[1;34m(url, filename, reporthook, data)\u001b[0m\n\u001b[0;32m    275\u001b[0m \u001b[1;33m\u001b[0m\u001b[0m\n\u001b[0;32m    276\u001b[0m             \u001b[1;32mwhile\u001b[0m \u001b[1;32mTrue\u001b[0m\u001b[1;33m:\u001b[0m\u001b[1;33m\u001b[0m\u001b[0m\n\u001b[1;32m--> 277\u001b[1;33m                 \u001b[0mblock\u001b[0m \u001b[1;33m=\u001b[0m \u001b[0mfp\u001b[0m\u001b[1;33m.\u001b[0m\u001b[0mread\u001b[0m\u001b[1;33m(\u001b[0m\u001b[0mbs\u001b[0m\u001b[1;33m)\u001b[0m\u001b[1;33m\u001b[0m\u001b[0m\n\u001b[0m\u001b[0;32m    278\u001b[0m                 \u001b[1;32mif\u001b[0m \u001b[1;32mnot\u001b[0m \u001b[0mblock\u001b[0m\u001b[1;33m:\u001b[0m\u001b[1;33m\u001b[0m\u001b[0m\n\u001b[0;32m    279\u001b[0m                     \u001b[1;32mbreak\u001b[0m\u001b[1;33m\u001b[0m\u001b[0m\n",
      "\u001b[1;32m~\\Anaconda3\\lib\\http\\client.py\u001b[0m in \u001b[0;36mread\u001b[1;34m(self, amt)\u001b[0m\n\u001b[0;32m    447\u001b[0m             \u001b[1;31m# Amount is given, implement using readinto\u001b[0m\u001b[1;33m\u001b[0m\u001b[1;33m\u001b[0m\u001b[0m\n\u001b[0;32m    448\u001b[0m             \u001b[0mb\u001b[0m \u001b[1;33m=\u001b[0m \u001b[0mbytearray\u001b[0m\u001b[1;33m(\u001b[0m\u001b[0mamt\u001b[0m\u001b[1;33m)\u001b[0m\u001b[1;33m\u001b[0m\u001b[0m\n\u001b[1;32m--> 449\u001b[1;33m             \u001b[0mn\u001b[0m \u001b[1;33m=\u001b[0m \u001b[0mself\u001b[0m\u001b[1;33m.\u001b[0m\u001b[0mreadinto\u001b[0m\u001b[1;33m(\u001b[0m\u001b[0mb\u001b[0m\u001b[1;33m)\u001b[0m\u001b[1;33m\u001b[0m\u001b[0m\n\u001b[0m\u001b[0;32m    450\u001b[0m             \u001b[1;32mreturn\u001b[0m \u001b[0mmemoryview\u001b[0m\u001b[1;33m(\u001b[0m\u001b[0mb\u001b[0m\u001b[1;33m)\u001b[0m\u001b[1;33m[\u001b[0m\u001b[1;33m:\u001b[0m\u001b[0mn\u001b[0m\u001b[1;33m]\u001b[0m\u001b[1;33m.\u001b[0m\u001b[0mtobytes\u001b[0m\u001b[1;33m(\u001b[0m\u001b[1;33m)\u001b[0m\u001b[1;33m\u001b[0m\u001b[0m\n\u001b[0;32m    451\u001b[0m         \u001b[1;32melse\u001b[0m\u001b[1;33m:\u001b[0m\u001b[1;33m\u001b[0m\u001b[0m\n",
      "\u001b[1;32m~\\Anaconda3\\lib\\http\\client.py\u001b[0m in \u001b[0;36mreadinto\u001b[1;34m(self, b)\u001b[0m\n\u001b[0;32m    491\u001b[0m         \u001b[1;31m# connection, and the user is reading more bytes than will be provided\u001b[0m\u001b[1;33m\u001b[0m\u001b[1;33m\u001b[0m\u001b[0m\n\u001b[0;32m    492\u001b[0m         \u001b[1;31m# (for example, reading in 1k chunks)\u001b[0m\u001b[1;33m\u001b[0m\u001b[1;33m\u001b[0m\u001b[0m\n\u001b[1;32m--> 493\u001b[1;33m         \u001b[0mn\u001b[0m \u001b[1;33m=\u001b[0m \u001b[0mself\u001b[0m\u001b[1;33m.\u001b[0m\u001b[0mfp\u001b[0m\u001b[1;33m.\u001b[0m\u001b[0mreadinto\u001b[0m\u001b[1;33m(\u001b[0m\u001b[0mb\u001b[0m\u001b[1;33m)\u001b[0m\u001b[1;33m\u001b[0m\u001b[0m\n\u001b[0m\u001b[0;32m    494\u001b[0m         \u001b[1;32mif\u001b[0m \u001b[1;32mnot\u001b[0m \u001b[0mn\u001b[0m \u001b[1;32mand\u001b[0m \u001b[0mb\u001b[0m\u001b[1;33m:\u001b[0m\u001b[1;33m\u001b[0m\u001b[0m\n\u001b[0;32m    495\u001b[0m             \u001b[1;31m# Ideally, we would raise IncompleteRead if the content-length\u001b[0m\u001b[1;33m\u001b[0m\u001b[1;33m\u001b[0m\u001b[0m\n",
      "\u001b[1;32m~\\Anaconda3\\lib\\socket.py\u001b[0m in \u001b[0;36mreadinto\u001b[1;34m(self, b)\u001b[0m\n\u001b[0;32m    584\u001b[0m         \u001b[1;32mwhile\u001b[0m \u001b[1;32mTrue\u001b[0m\u001b[1;33m:\u001b[0m\u001b[1;33m\u001b[0m\u001b[0m\n\u001b[0;32m    585\u001b[0m             \u001b[1;32mtry\u001b[0m\u001b[1;33m:\u001b[0m\u001b[1;33m\u001b[0m\u001b[0m\n\u001b[1;32m--> 586\u001b[1;33m                 \u001b[1;32mreturn\u001b[0m \u001b[0mself\u001b[0m\u001b[1;33m.\u001b[0m\u001b[0m_sock\u001b[0m\u001b[1;33m.\u001b[0m\u001b[0mrecv_into\u001b[0m\u001b[1;33m(\u001b[0m\u001b[0mb\u001b[0m\u001b[1;33m)\u001b[0m\u001b[1;33m\u001b[0m\u001b[0m\n\u001b[0m\u001b[0;32m    587\u001b[0m             \u001b[1;32mexcept\u001b[0m \u001b[0mtimeout\u001b[0m\u001b[1;33m:\u001b[0m\u001b[1;33m\u001b[0m\u001b[0m\n\u001b[0;32m    588\u001b[0m                 \u001b[0mself\u001b[0m\u001b[1;33m.\u001b[0m\u001b[0m_timeout_occurred\u001b[0m \u001b[1;33m=\u001b[0m \u001b[1;32mTrue\u001b[0m\u001b[1;33m\u001b[0m\u001b[0m\n",
      "\u001b[1;32m~\\Anaconda3\\lib\\ssl.py\u001b[0m in \u001b[0;36mrecv_into\u001b[1;34m(self, buffer, nbytes, flags)\u001b[0m\n\u001b[0;32m   1007\u001b[0m                   \u001b[1;34m\"non-zero flags not allowed in calls to recv_into() on %s\"\u001b[0m \u001b[1;33m%\u001b[0m\u001b[1;33m\u001b[0m\u001b[0m\n\u001b[0;32m   1008\u001b[0m                   self.__class__)\n\u001b[1;32m-> 1009\u001b[1;33m             \u001b[1;32mreturn\u001b[0m \u001b[0mself\u001b[0m\u001b[1;33m.\u001b[0m\u001b[0mread\u001b[0m\u001b[1;33m(\u001b[0m\u001b[0mnbytes\u001b[0m\u001b[1;33m,\u001b[0m \u001b[0mbuffer\u001b[0m\u001b[1;33m)\u001b[0m\u001b[1;33m\u001b[0m\u001b[0m\n\u001b[0m\u001b[0;32m   1010\u001b[0m         \u001b[1;32melse\u001b[0m\u001b[1;33m:\u001b[0m\u001b[1;33m\u001b[0m\u001b[0m\n\u001b[0;32m   1011\u001b[0m             \u001b[1;32mreturn\u001b[0m \u001b[0msocket\u001b[0m\u001b[1;33m.\u001b[0m\u001b[0mrecv_into\u001b[0m\u001b[1;33m(\u001b[0m\u001b[0mself\u001b[0m\u001b[1;33m,\u001b[0m \u001b[0mbuffer\u001b[0m\u001b[1;33m,\u001b[0m \u001b[0mnbytes\u001b[0m\u001b[1;33m,\u001b[0m \u001b[0mflags\u001b[0m\u001b[1;33m)\u001b[0m\u001b[1;33m\u001b[0m\u001b[0m\n",
      "\u001b[1;32m~\\Anaconda3\\lib\\ssl.py\u001b[0m in \u001b[0;36mread\u001b[1;34m(self, len, buffer)\u001b[0m\n\u001b[0;32m    869\u001b[0m             \u001b[1;32mraise\u001b[0m \u001b[0mValueError\u001b[0m\u001b[1;33m(\u001b[0m\u001b[1;34m\"Read on closed or unwrapped SSL socket.\"\u001b[0m\u001b[1;33m)\u001b[0m\u001b[1;33m\u001b[0m\u001b[0m\n\u001b[0;32m    870\u001b[0m         \u001b[1;32mtry\u001b[0m\u001b[1;33m:\u001b[0m\u001b[1;33m\u001b[0m\u001b[0m\n\u001b[1;32m--> 871\u001b[1;33m             \u001b[1;32mreturn\u001b[0m \u001b[0mself\u001b[0m\u001b[1;33m.\u001b[0m\u001b[0m_sslobj\u001b[0m\u001b[1;33m.\u001b[0m\u001b[0mread\u001b[0m\u001b[1;33m(\u001b[0m\u001b[0mlen\u001b[0m\u001b[1;33m,\u001b[0m \u001b[0mbuffer\u001b[0m\u001b[1;33m)\u001b[0m\u001b[1;33m\u001b[0m\u001b[0m\n\u001b[0m\u001b[0;32m    872\u001b[0m         \u001b[1;32mexcept\u001b[0m \u001b[0mSSLError\u001b[0m \u001b[1;32mas\u001b[0m \u001b[0mx\u001b[0m\u001b[1;33m:\u001b[0m\u001b[1;33m\u001b[0m\u001b[0m\n\u001b[0;32m    873\u001b[0m             \u001b[1;32mif\u001b[0m \u001b[0mx\u001b[0m\u001b[1;33m.\u001b[0m\u001b[0margs\u001b[0m\u001b[1;33m[\u001b[0m\u001b[1;36m0\u001b[0m\u001b[1;33m]\u001b[0m \u001b[1;33m==\u001b[0m \u001b[0mSSL_ERROR_EOF\u001b[0m \u001b[1;32mand\u001b[0m \u001b[0mself\u001b[0m\u001b[1;33m.\u001b[0m\u001b[0msuppress_ragged_eofs\u001b[0m\u001b[1;33m:\u001b[0m\u001b[1;33m\u001b[0m\u001b[0m\n",
      "\u001b[1;32m~\\Anaconda3\\lib\\ssl.py\u001b[0m in \u001b[0;36mread\u001b[1;34m(self, len, buffer)\u001b[0m\n\u001b[0;32m    629\u001b[0m         \"\"\"\n\u001b[0;32m    630\u001b[0m         \u001b[1;32mif\u001b[0m \u001b[0mbuffer\u001b[0m \u001b[1;32mis\u001b[0m \u001b[1;32mnot\u001b[0m \u001b[1;32mNone\u001b[0m\u001b[1;33m:\u001b[0m\u001b[1;33m\u001b[0m\u001b[0m\n\u001b[1;32m--> 631\u001b[1;33m             \u001b[0mv\u001b[0m \u001b[1;33m=\u001b[0m \u001b[0mself\u001b[0m\u001b[1;33m.\u001b[0m\u001b[0m_sslobj\u001b[0m\u001b[1;33m.\u001b[0m\u001b[0mread\u001b[0m\u001b[1;33m(\u001b[0m\u001b[0mlen\u001b[0m\u001b[1;33m,\u001b[0m \u001b[0mbuffer\u001b[0m\u001b[1;33m)\u001b[0m\u001b[1;33m\u001b[0m\u001b[0m\n\u001b[0m\u001b[0;32m    632\u001b[0m         \u001b[1;32melse\u001b[0m\u001b[1;33m:\u001b[0m\u001b[1;33m\u001b[0m\u001b[0m\n\u001b[0;32m    633\u001b[0m             \u001b[0mv\u001b[0m \u001b[1;33m=\u001b[0m \u001b[0mself\u001b[0m\u001b[1;33m.\u001b[0m\u001b[0m_sslobj\u001b[0m\u001b[1;33m.\u001b[0m\u001b[0mread\u001b[0m\u001b[1;33m(\u001b[0m\u001b[0mlen\u001b[0m\u001b[1;33m)\u001b[0m\u001b[1;33m\u001b[0m\u001b[0m\n",
      "\u001b[1;31mKeyboardInterrupt\u001b[0m: "
     ]
    }
   ],
   "source": [
    "for link in tqdm(links[1:]):\n",
    "    filename = str(link['href'])\n",
    "    if filename[-1]!='/':\n",
    "        print(f\"downloading filename {filename}....\")\n",
    "        url  = main_url + filename\n",
    "        print(url)\n",
    "        filename = wget.download(url,out = str(path_to_sxdump))\n",
    "        print(f\"7z e {filename} -o{filename.rstrip('.7z')}\")\n",
    "        os.system(f\"7z e {filename} -o{filename.rstrip('.7z')}\")"
   ]
  },
  {
   "cell_type": "code",
   "execution_count": 45,
   "metadata": {
    "collapsed": true
   },
   "outputs": [],
   "source": [
    "def xml_to_pandas(root, columns, row_name=\"row\"):\n",
    "    df = None\n",
    "    try:\n",
    "\n",
    "        rows = root.findall(\".//{}\".format(row_name))\n",
    "\n",
    "        xml_data = [[row.get(c) for c in columns] for row in rows]  # NESTED LIST\n",
    "\n",
    "        df = pd.DataFrame(xml_data, columns=columns)\n",
    "    except Exception as e:\n",
    "        print(\"[xml_to_pandas] Exception: {}.\".format(e))\n",
    "\n",
    "    return d\n",
    "def parse_xml_dump(pathes):\n",
    "    stackexchange_dir, output_dir = pathes\n",
    "\n",
    "    path = stackexchange_dir / \"Users.xml\"\n",
    "    columns = [\"Id\", \"Reputation\", \"DisplayName\"]\n",
    "\n",
    "    root = et.parse(path)\n",
    "    user_df = xml_to_pandas(root, columns)\n",
    "    user_df = user_df.rename(\n",
    "        columns={\n",
    "            \"Reputation\": \"user_reputation\",\n",
    "            \"DisplayName\": \"username\",\n",
    "            \"Id\": \"OwnerUserId\",\n",
    "        }\n",
    "    )\n",
    "\n",
    "    path = stackexchange_dir / \"Posts.xml\"\n",
    "    columns = [\n",
    "        \"AcceptedAnswerId\",\n",
    "        \"AnswerCount\",\n",
    "        \"Body\",\n",
    "        \"ClosedDate\",\n",
    "        \"CommentCount\",\n",
    "        \"CreationDate\",\n",
    "        \"FavoriteCount\",\n",
    "        \"Id\",\n",
    "        \"LastActivityDate\",\n",
    "        \"OwnerUserId\",\n",
    "        \"ParentId\",\n",
    "        \"PostTypeId\",\n",
    "        \"Score\",\n",
    "        \"Title\",\n",
    "        \"ViewCount\",\n",
    "    ]\n",
    "\n",
    "    root = et.parse(path)\n",
    "    posts_df = xml_to_pandas(root, columns)\n",
    "\n",
    "    question_columns = [\n",
    "        \"Id\",\n",
    "        \"CreationDate\",\n",
    "        \"Score\",\n",
    "        \"ViewCount\",\n",
    "        \"Body\",\n",
    "        \"OwnerUserId\",\n",
    "        \"LastActivityDate\",\n",
    "        \"Title\",\n",
    "        \"AnswerCount\",\n",
    "        \"CommentCount\",\n",
    "        \"FavoriteCount\",\n",
    "        \"AcceptedAnswerId\",\n",
    "        \"ClosedDate\",\n",
    "    ]\n",
    "\n",
    "    answer_columns = [\n",
    "        \"Id\",\n",
    "        \"CreationDate\",\n",
    "        \"Score\",\n",
    "        \"Body\",\n",
    "        \"OwnerUserId\",\n",
    "        \"LastActivityDate\",\n",
    "        \"CommentCount\",\n",
    "        \"ParentId\",\n",
    "    ]\n",
    "\n",
    "    question_df = posts_df[posts_df[\"PostTypeId\"] == \"1\"][question_columns]\n",
    "    answer_df = posts_df[posts_df[\"PostTypeId\"] == \"2\"][answer_columns]\n",
    "\n",
    "    answer_df = answer_df.merge(user_df, on=\"OwnerUserId\")\n",
    "    question_df = question_df.merge(user_df, on=\"OwnerUserId\")\n",
    "\n",
    "    answer_df.to_csv(output_dir / \"answers.tsv\", sep=\"\\t\", index=False)\n",
    "    question_df.to_csv(output_dir / \"questions.tsv\", sep=\"\\t\", index=False)\n",
    "\n",
    "    return question_df, answer_df\n",
    "\n",
    "\n",
    "def parse_dumps(path_to_dump, out_dir):\n",
    "    print(path_to_dump)\n",
    "    dumps = list(path_to_dump.glob(\"*com\"))\n",
    "    print(dumps)\n",
    "    dumps = [path for path in dumps if \".meta\" not in path.name]\n",
    "\n",
    "    outputs = [out_dir / path.name for path in dumps]\n",
    "    print(outputs)\n",
    "    for path in outputs:\n",
    "        if not path.exists():\n",
    "            os.makedirs(str(path))\n",
    "\n",
    "    with Pool(cpu_count()) as pool:\n",
    "        list(tqdm(pool.imap(parse_xml_dump, zip(dumps, outputs)), total=len(dumps)))"
   ]
  },
  {
   "cell_type": "code",
   "execution_count": null,
   "metadata": {},
   "outputs": [
    {
     "name": "stderr",
     "output_type": "stream",
     "text": [
      "\n",
      "  0%|                                                                                            | 0/6 [00:00<?, ?it/s]\u001b[A"
     ]
    },
    {
     "name": "stdout",
     "output_type": "stream",
     "text": [
      "C:\\Users\\admin\\Documents\\Nitin\\mycodes\\kaggle_google_quest_qna\\lmtraining\\input\\sx_dump\n",
      "[WindowsPath('C:/Users/admin/Documents/Nitin/mycodes/kaggle_google_quest_qna/lmtraining/input/sx_dump/3dprinting.meta.stackexchange.com'), WindowsPath('C:/Users/admin/Documents/Nitin/mycodes/kaggle_google_quest_qna/lmtraining/input/sx_dump/3dprinting.stackexchange.com'), WindowsPath('C:/Users/admin/Documents/Nitin/mycodes/kaggle_google_quest_qna/lmtraining/input/sx_dump/academia.meta.stackexchange.com'), WindowsPath('C:/Users/admin/Documents/Nitin/mycodes/kaggle_google_quest_qna/lmtraining/input/sx_dump/academia.stackexchange.com'), WindowsPath('C:/Users/admin/Documents/Nitin/mycodes/kaggle_google_quest_qna/lmtraining/input/sx_dump/ai.meta.stackexchange.com'), WindowsPath('C:/Users/admin/Documents/Nitin/mycodes/kaggle_google_quest_qna/lmtraining/input/sx_dump/ai.stackexchange.com'), WindowsPath('C:/Users/admin/Documents/Nitin/mycodes/kaggle_google_quest_qna/lmtraining/input/sx_dump/android.meta.stackexchange.com'), WindowsPath('C:/Users/admin/Documents/Nitin/mycodes/kaggle_google_quest_qna/lmtraining/input/sx_dump/android.stackexchange.com'), WindowsPath('C:/Users/admin/Documents/Nitin/mycodes/kaggle_google_quest_qna/lmtraining/input/sx_dump/anime.stackexchange.com'), WindowsPath('C:/Users/admin/Documents/Nitin/mycodes/kaggle_google_quest_qna/lmtraining/input/sx_dump/arduino.stackexchange.com')]\n",
      "[WindowsPath('C:/Users/admin/Documents/Nitin/mycodes/kaggle_google_quest_qna/lmtraining/input/sx_dump/sx_parsed/3dprinting.stackexchange.com'), WindowsPath('C:/Users/admin/Documents/Nitin/mycodes/kaggle_google_quest_qna/lmtraining/input/sx_dump/sx_parsed/academia.stackexchange.com'), WindowsPath('C:/Users/admin/Documents/Nitin/mycodes/kaggle_google_quest_qna/lmtraining/input/sx_dump/sx_parsed/ai.stackexchange.com'), WindowsPath('C:/Users/admin/Documents/Nitin/mycodes/kaggle_google_quest_qna/lmtraining/input/sx_dump/sx_parsed/android.stackexchange.com'), WindowsPath('C:/Users/admin/Documents/Nitin/mycodes/kaggle_google_quest_qna/lmtraining/input/sx_dump/sx_parsed/anime.stackexchange.com'), WindowsPath('C:/Users/admin/Documents/Nitin/mycodes/kaggle_google_quest_qna/lmtraining/input/sx_dump/sx_parsed/arduino.stackexchange.com')]\n"
     ]
    }
   ],
   "source": [
    "parse_dumps(path_to_dump=path_to_sxdump, out_dir=out_dir)"
   ]
  }
 ],
 "metadata": {
  "kernelspec": {
   "display_name": "Python 3",
   "language": "python",
   "name": "python3"
  },
  "language_info": {
   "codemirror_mode": {
    "name": "ipython",
    "version": 3
   },
   "file_extension": ".py",
   "mimetype": "text/x-python",
   "name": "python",
   "nbconvert_exporter": "python",
   "pygments_lexer": "ipython3",
   "version": "3.6.3"
  }
 },
 "nbformat": 4,
 "nbformat_minor": 2
}
